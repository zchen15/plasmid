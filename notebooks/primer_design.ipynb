{
 "cells": [
  {
   "cell_type": "markdown",
   "id": "e0c986a8-9997-42ed-9b87-aae8b0243866",
   "metadata": {},
   "source": [
    "# Plasmid: A python based tool for gene editing\n",
    "This demo illustrates the various functions contained in the `designer` class, which can be used to design primers for extension PCR, gibson assembly, and golden gate assembly.\n",
    "\n",
    "## Table of contents\n",
    "1) [Reading and viewing genbank files](#reading_genbank)\n",
    "\n",
    "    a) [Visualizing genbank records](#visualizing_genbank)\n",
    "\n",
    "    b) [Selecting and filtering for genomic features](#filtering_genbank)\n",
    "    \n",
    "    c) [Gene translation to amino acids](#gene_translation)\n",
    "    \n",
    "2) [Creating new genbank records](#gene_concat)\n",
    "\n",
    "    a) [Writing genbank files](#genbank_write)\n",
    "    \n",
    "    b) [Sequence annotation](#gene_annotation)\n",
    "    \n",
    "    c) [Searching for open reading frames](#gene_ORF)\n",
    "    "
   ]
  },
  {
   "cell_type": "code",
   "execution_count": 86,
   "id": "6615ef09-9e39-4b29-9886-fe81c402b715",
   "metadata": {
    "tags": []
   },
   "outputs": [
    {
     "data": {
      "text/plain": [
       "<module 'plasmid' from '/home/zchen/Public/python/lib/python3.11/site-packages/plasmid/__init__.py'>"
      ]
     },
     "execution_count": 86,
     "metadata": {},
     "output_type": "execute_result"
    }
   ],
   "source": [
    "import plasmid as pge\n",
    "import importlib\n",
    "importlib.reload(pge)"
   ]
  },
  {
   "cell_type": "code",
   "execution_count": null,
   "id": "64da7ef4-d638-4351-bb2d-dbd8d8f72046",
   "metadata": {},
   "outputs": [
    {
     "name": "stdout",
     "output_type": "stream",
     "text": [
      "MASSEDVIKEFMRFKVRMEGSVNGHEFEIEGEGEGRPYEGTQTAKLKVTKGGPLPFAWDILSPQFQYGSKAYVKHPADIPDYLKLSFPEGFKWERVMNFEDGGVVTVTQDSSLQDGEFIYKVKLRGTNFPSDGPVMQKKTMGWEASTERMYPEDGALKGEIKMRLKLKDGGHYDAEVKTTYMAKKPVQLPGAYKTDIKLDITSHNEDYTIVEQYERAEGRHSTGA*\n",
      "\u001b[38;2;0;128;128mAATTGACAATGTGAGCGAGTAACAAGATACTGAGCACA\u001b[39mgagacc\u001b[38;2;0;255;255mAAAGAGGAGAAA\u001b[39mggtctc\u001b[38;2;128;0;64mATGGCGAGTAGCGAAGACGTTATCAAAGAGTTCATGCGTTTCAAAGTTCGTATGGAAGGTTCCGTTAACGGTCACGAGTTCGAAATCGAAGGTGAAGGTGAAGGTCGTCCGTACGAAGGTACCCAGACCGCTAAACTGAAAGTTACCAAAGGTGGTCCGCTGCCGTTCGCTTGGGACATCCTGTCCCCGCAGTTCCAGTACGGTTCCAAAGCTTACGTTAAACACCCGGCTGACATCCCGGACTACCTGAAACTGTCCTTCCCGGAAGGTTTCAAATGGGAACGTGTTATGAACTTCGAAGACGGTGGTGTTGTTACCGTTACCCAGGACTCCTCCCTGCAAGACGGTGAGTTCATCTACAAAGTTAAACTGCGTGGTACCAACTTCCCGTCCGACGGTCCGGTTATGCAGAAAAAAACCATGGGTTGGGAAGCTTCCACCGAACGTATGTACCCGGAA\u001b[39m\u001b[38;2;255;165;0mGACGGTGCTCTGAAAGGTGAAATCAAAATGCGTCTGAAACTGAAAGACGGT\u001b[39m\u001b[38;2;128;0;64mGGTCACTACGACGCTGAAGTTAAAACCACCTACATGGCTAAAAAACCGGTTCAGCTGCCGGGTGCTTACAAAACCGACATCAAACTGGACATCACCTCCCACAACGAAGACTACACCATCGTTGAACAGTACGAACGTGCTGAAGGTCGTCACTCCACCGGTGCTTAA\u001b[39m\n"
     ]
    },
    {
     "name": "stderr",
     "output_type": "stream",
     "text": [
      "/home/zchen/Public/python/lib/python3.11/site-packages/Bio/Seq.py:2804: BiopythonWarning: Partial codon, len(sequence) not a multiple of three. Explicitly trim the sequence or add trailing N before translation. This may become an error in future.\n",
      "  warnings.warn(\n",
      "/home/zchen/Public/python/lib/python3.11/site-packages/Bio/Seq.py:2804: BiopythonWarning: Partial codon, len(sequence) not a multiple of three. Explicitly trim the sequence or add trailing N before translation. This may become an error in future.\n",
      "  warnings.warn(\n",
      "/home/zchen/Public/python/lib/python3.11/site-packages/Bio/Seq.py:2804: BiopythonWarning: Partial codon, len(sequence) not a multiple of three. Explicitly trim the sequence or add trailing N before translation. This may become an error in future.\n",
      "  warnings.warn(\n",
      "/home/zchen/Public/python/lib/python3.11/site-packages/Bio/Seq.py:2804: BiopythonWarning: Partial codon, len(sequence) not a multiple of three. Explicitly trim the sequence or add trailing N before translation. This may become an error in future.\n",
      "  warnings.warn(\n"
     ]
    }
   ],
   "source": [
    "print(RFP.translate())\n",
    "\n",
    "df = pLac + 'gagacc' + RBS + 'ggtctc' + RFP\n",
    "aaseq = 'DGALKGEIKMRLKLKDG'\n",
    "df = df.annotate(name='peptide', sequence=aaseq, color='orange')\n",
    "df = df.drop_duplicates()\n",
    "print(df.get_colored())"
   ]
  },
  {
   "cell_type": "markdown",
   "id": "691d329a-2ad6-4928-91c6-4bea2d330668",
   "metadata": {},
   "source": [
    "## Extension PCR\n",
    "This library provides functionality for designing primers for cloning the DNA constructs using the `Design` class."
   ]
  },
  {
   "cell_type": "code",
   "execution_count": 125,
   "id": "0e5833e2-bc46-4b3c-8dfe-1ffa38637d82",
   "metadata": {
    "tags": []
   },
   "outputs": [
    {
     "name": "stdout",
     "output_type": "stream",
     "text": [
      "Help on method xtPCR in module plasmid.designer:\n",
      "\n",
      "xtPCR(fL, seq, fR=None, padding=[2, 2], niter=3, w=[10, 100, 1, 1, 2], get_cost=False) method of plasmid.designer.Designer instance\n",
      "    Find primers which can seed and extend a PCR fragment\n",
      "    fL = flanking sequence on 5' end\n",
      "    seq = sequence on 3' end which gets amplified\n",
      "    fR = flanking sequence on 3' end\n",
      "    padding = number of extra primers to try\n",
      "    w = weights for cost function\n",
      "    method = optimization method\n",
      "    returns list of primers\n",
      "\n"
     ]
    }
   ],
   "source": [
    "pcr = pge.Designer()\n",
    "help(pcr.xtPCR)"
   ]
  },
  {
   "cell_type": "markdown",
   "id": "c296be10-7f4b-482e-99c2-a796bdaa66e9",
   "metadata": {},
   "source": [
    "The following shows to obtain extension PCR primers that will add promoter and rbs sequences to the RFP gene."
   ]
  },
  {
   "cell_type": "code",
   "execution_count": 12,
   "id": "6de9a6bf-f33b-4d3b-98f2-f058815713d0",
   "metadata": {
    "tags": []
   },
   "outputs": [
    {
     "name": "stdout",
     "output_type": "stream",
     "text": [
      "reading  ../data/dcas9_RFP.gb  as genbank file\n",
      "reading  ../data/xRFP.gb  as genbank file\n",
      "reading  ../data/xRFP.gb  as genbank file\n"
     ]
    }
   ],
   "source": [
    "# slice out the RFP gene\n",
    "RFP = pge.read_genbank('../data/dcas9_RFP.gb')\n",
    "RFP = RFP[RFP['locus_tag'].str.contains('mRFP')].splice()\n",
    "# slice out the ribosome binding site\n",
    "RBS = pge.read_genbank('../data/xRFP.gb')\n",
    "RBS = RBS[RBS['locus_tag'].str.contains('BBa_B0034')].splice()\n",
    "# slice out the promoter\n",
    "pLac = pge.read_genbank('../data/xRFP.gb')\n",
    "pLac = pLac[pLac['locus_tag'].str.contains('pLac')].splice()\n",
    "\n",
    "# assemble the promoter, rbs, and mRFP\n",
    "df = pLac + 'gagacc' + RBS + 'ggtctc' + RFP"
   ]
  },
  {
   "cell_type": "code",
   "execution_count": 13,
   "id": "bfe6916f-8a87-458f-a3c6-b57cf5d87b5d",
   "metadata": {
    "tags": []
   },
   "outputs": [
    {
     "name": "stdout",
     "output_type": "stream",
     "text": [
      "running fwd\n",
      "running rev\n",
      "  locus_tag         Tm                                           sequence   \n",
      "0       0_F  55.381908  AGATACTGAGCACAgagaccAAAGAGGAGAAAggtctc ATGGCGA...  \\\n",
      "1     fin_F  55.348127      AATTGACAATGTGAGCGAGTAACA AGATACTGAGCACAgagacc   \n",
      "0     fin_R  56.777386                                 TTAAGCACCGGTGGAGTG   \n",
      "\n",
      "                 annealed  strand  \n",
      "0  ATGGCGAGTAGCGAAGACGTTA       1  \n",
      "1    AGATACTGAGCACAgagacc       1  \n",
      "0      TTAAGCACCGGTGGAGTG      -1  \n",
      "[['0_F' 55.38190849297598\n",
      "  'AGATACTGAGCACAgagaccAAAGAGGAGAAAggtctc ATGGCGAGTAGCGAAGACGTTA'\n",
      "  'ATGGCGAGTAGCGAAGACGTTA' 1]\n",
      " ['fin_F' 55.34812743102748\n",
      "  'AATTGACAATGTGAGCGAGTAACA AGATACTGAGCACAgagacc' 'AGATACTGAGCACAgagacc'\n",
      "  1]\n",
      " ['fin_R' 56.777386483231 '  TTAAGCACCGGTGGAGTG' 'TTAAGCACCGGTGGAGTG' -1]]\n"
     ]
    }
   ],
   "source": [
    "pcr = pge.Designer()\n",
    "pcr.params['xtPCR']['Tm'] = 55         # target annealing temperature for xtPCR\n",
    "pcr.params['xtPCR']['len'] = [15, 60]  # defines the [min, max] primer lengths\n",
    "pcr.params['verbose'] = False\n",
    "\n",
    "insert = pLac + 'gagacc' + RBS + 'ggtctc'\n",
    "res = pcr.xtPCR(insert, RFP, ' ')\n",
    "print(res)\n",
    "print(res.values)"
   ]
  },
  {
   "cell_type": "markdown",
   "id": "fec38134-d3fe-4754-92ac-36990f128427",
   "metadata": {},
   "source": [
    "## Gibson assembly\n",
    "The following shows how to design primers for gibson assembly."
   ]
  },
  {
   "cell_type": "code",
   "execution_count": 14,
   "id": "94e8695f-c592-4665-8688-1daf8c9c00fa",
   "metadata": {
    "tags": []
   },
   "outputs": [
    {
     "name": "stdout",
     "output_type": "stream",
     "text": [
      "Help on method Gibson in module plasmid.designer:\n",
      "\n",
      "Gibson(seqlist, w=[10, 1], method='differential_evolution', circular=True) method of plasmid.designer.Designer instance\n",
      "    Design primers for gibson assembly\n",
      "    seqlist = list of sequences to assemble via gibson in order \n",
      "    circular = assemble fragments into a circular construct\n",
      "    returns list of primers\n",
      "\n"
     ]
    }
   ],
   "source": [
    "pcr = pge.Designer()\n",
    "help(pcr.Gibson)"
   ]
  },
  {
   "cell_type": "code",
   "execution_count": 15,
   "id": "7a971588-f759-4fe2-8390-a890ad689bc1",
   "metadata": {
    "tags": []
   },
   "outputs": [],
   "source": [
    "def get_parts():\n",
    "    # slice out the LacI gene\n",
    "    LacI = pge.read_genbank('../data/xRFP.gb')\n",
    "    LacI = LacI[LacI['locus_tag'].str.contains('LacI')].splice()\n",
    "\n",
    "    # slice out the RFP gene\n",
    "    RFP = pge.read_genbank('../data/dcas9_RFP.gb')\n",
    "    RFP = RFP[RFP['locus_tag'].str.contains('mRFP')].splice()\n",
    "\n",
    "    # slice out the origin of replication\n",
    "    df = pge.read_genbank('../data/xRFP.gb')\n",
    "    vec = df[df['locus_tag'].str.contains('pSC101')]\n",
    "    start = vec['start'][0]\n",
    "    stop = vec['end'][0]\n",
    "    vec = df[start:stop]\n",
    "    return LacI, RFP, vec"
   ]
  },
  {
   "cell_type": "code",
   "execution_count": 16,
   "id": "80638f89-eabe-4a88-9bb2-1eb27868ed4e",
   "metadata": {
    "tags": []
   },
   "outputs": [
    {
     "name": "stdout",
     "output_type": "stream",
     "text": [
      "reading  ../data/xRFP.gb  as genbank file\n",
      "reading  ../data/dcas9_RFP.gb  as genbank file\n",
      "reading  ../data/xRFP.gb  as genbank file\n",
      "res.x [10.95407762 17.41633213 26.61257437]\n",
      "res.fun -57.0\n",
      "exclude: []\n",
      "overlaps: ['GCGGGCAGTAAAAAActttt', 'TTAACGCCctttt CTGTCA', 'tttt ATGGTGAATGTGAAA']\n",
      "Tm overlap: [49.290031925644485, 48.14694596334914, 41.2522012369904]\n",
      "processing primers for frag 0\n",
      "running fwd\n",
      "running rev\n",
      "processing primers for frag 1\n",
      "running fwd\n",
      "running rev\n",
      "processing primers for frag 2\n",
      "running fwd\n",
      "running rev\n",
      "     locus_tag         Tm                                           sequence   \n",
      "0  frag0_fin_F  55.851352                      tttt  ATGGTGAATGTGAAACCAGTAAC  \\\n",
      "1  frag0_fin_R  56.106442                        aaaagTTTT TTACTGCCCGCTTTCCA   \n",
      "2  frag1_fin_F  55.335316            GCGGGCAGTAAAAAActttt  ATGGCGAGTAGCGAAGA   \n",
      "3  frag1_fin_R  56.777386                TGACAG aaaagGGCG TTAAGCACCGGTGGAGTG   \n",
      "4  frag2_fin_F  55.363272               TTAACGCCctttt  CTGTCAGACCAAGTTTACGAG   \n",
      "5  frag2_fin_R  54.627626  TTTCACATTCACCAT aaaagCCCC GTTACATTGTCGATCTGTTCATG   \n",
      "6         seq0        NaN  tttt ATGGTGAATGTGAAACCAGTAACGTTATACGATGTCGCAGA...   \n",
      "7         seq1        NaN  GCGGGCAGTAAAAAActttt ATGGCGAGTAGCGAAGACGTTATCA...   \n",
      "8         seq2        NaN  TTAACGCCctttt CTGTCAGACCAAGTTTACGAGCTCGCTTGGAC...   \n",
      "\n",
      "                  annealed  strand  \n",
      "0  ATGGTGAATGTGAAACCAGTAAC     1.0  \n",
      "1        TTACTGCCCGCTTTCCA    -1.0  \n",
      "2        ATGGCGAGTAGCGAAGA     1.0  \n",
      "3       TTAAGCACCGGTGGAGTG    -1.0  \n",
      "4    CTGTCAGACCAAGTTTACGAG     1.0  \n",
      "5  GTTACATTGTCGATCTGTTCATG    -1.0  \n",
      "6                      NaN     NaN  \n",
      "7                      NaN     NaN  \n",
      "8                      NaN     NaN  \n"
     ]
    }
   ],
   "source": [
    "LacI, RFP, vec = get_parts()\n",
    "seq = []\n",
    "seq+= [[' ',LacI,'AAAActttt']]\n",
    "seq+= [[' ',RFP,'CGCCctttt']]\n",
    "seq+= [[' ',vec,'GGGGctttt']]\n",
    "\n",
    "pcr = pge.Designer()\n",
    "pcr.params['gibson']['Tm'] = 50     # target annealing temperature of gibson fragments    \n",
    "pcr.params['gibson']['window'] = 30 # +/i window in bp around frag edges to look for gibson overlap\n",
    "pcr.params['gibson']['len'] = 20    # length of gibson overlap\n",
    "\n",
    "pcr.params['xtPCR']['Tm'] = 55         # target annealing temperature for xtPCR\n",
    "pcr.params['xtPCR']['len'] = [15, 60]  # defines the [min, max] primer lengths\n",
    "pcr.params['xtPCR']['nM'] = [20, 500]  # defines the [seed, finisher] primer conc in nM\n",
    "pcr.params['verbose'] = False\n",
    "\n",
    "res = pcr.Gibson(seq)\n",
    "print(res)"
   ]
  },
  {
   "cell_type": "markdown",
   "id": "9ff41969-4672-448a-98fd-903f8e132d37",
   "metadata": {},
   "source": [
    "## Golden gate assembly\n",
    "The following shows how to design primers for golden gate assembly"
   ]
  },
  {
   "cell_type": "code",
   "execution_count": 17,
   "id": "2a2911c4-c54f-4d1b-a4b2-b4a42e6ca375",
   "metadata": {
    "tags": []
   },
   "outputs": [
    {
     "name": "stdout",
     "output_type": "stream",
     "text": [
      "Help on method GoldenGate in module plasmid.designer:\n",
      "\n",
      "GoldenGate(seqlist, exclude=[], w=[0, 1], circular=True) method of plasmid.designer.Designer instance\n",
      "    Design primers for goldengate assembly\n",
      "    seqlist = list of sequences to assemble\n",
      "    exclude = sites to exclude\n",
      "    circular = assemble fragments into a circular construct\n",
      "    returns list of primers\n",
      "\n"
     ]
    }
   ],
   "source": [
    "pcr = pge.Designer()\n",
    "help(pcr.GoldenGate)"
   ]
  },
  {
   "cell_type": "code",
   "execution_count": 18,
   "id": "a3bfa742-a892-4745-b7fb-3fd3060f5197",
   "metadata": {
    "tags": []
   },
   "outputs": [
    {
     "name": "stdout",
     "output_type": "stream",
     "text": [
      "reading  ../data/xRFP.gb  as genbank file\n",
      "reading  ../data/dcas9_RFP.gb  as genbank file\n",
      "reading  ../data/xRFP.gb  as genbank file\n",
      "res.x [27.21765366 15.28962375 12.57292265]\n",
      "res.fun -12.0\n",
      "exclude: []\n",
      "overlaps: ['GTAG', 'cttt', 'GGGc']\n",
      "Tm overlap: [-63.72743868625798, -70.43593665137047, -41.01531509599255]\n",
      "processing primers for frag 0\n",
      "running fwd\n"
     ]
    },
    {
     "name": "stderr",
     "output_type": "stream",
     "text": [
      "/home/zchen/Public/python/lib/python3.11/site-packages/scipy/optimize/_numdiff.py:576: RuntimeWarning: invalid value encountered in subtract\n",
      "  df = fun(x) - f0\n"
     ]
    },
    {
     "name": "stdout",
     "output_type": "stream",
     "text": [
      "running rev\n",
      "processing primers for frag 1\n",
      "running fwd\n"
     ]
    },
    {
     "name": "stderr",
     "output_type": "stream",
     "text": [
      "/home/zchen/Public/python/lib/python3.11/site-packages/scipy/optimize/_numdiff.py:576: RuntimeWarning: invalid value encountered in subtract\n",
      "  df = fun(x) - f0\n"
     ]
    },
    {
     "name": "stdout",
     "output_type": "stream",
     "text": [
      "running rev\n",
      "processing primers for frag 2\n",
      "running fwd\n"
     ]
    },
    {
     "name": "stderr",
     "output_type": "stream",
     "text": [
      "/home/zchen/Public/python/lib/python3.11/site-packages/scipy/optimize/_numdiff.py:576: RuntimeWarning: invalid value encountered in subtract\n",
      "  df = fun(x) - f0\n"
     ]
    },
    {
     "name": "stdout",
     "output_type": "stream",
     "text": [
      "running rev\n",
      "     locus_tag         Tm                                           sequence   \n",
      "0  frag0_fin_F  55.851352  atatatatggGGTCTCcGGGctttt ATGGTGAATGTGAAACCAGTAAC  \\\n",
      "1  frag0_fin_R  56.106442  atatatatggGGTCTCcCTACTCGCCATaaaagTTTT TTACTGCC...   \n",
      "2  frag1_fin_F  55.129431           atatatatggGGTCTCc GTAGCGAAGACGTTATCAAAGA   \n",
      "3  frag1_fin_R  56.777386       atatatatggGGTCTCcaaagGGCG TTAAGCACCGGTGGAGTG   \n",
      "4  frag2_fin_F  55.363272       atatatatggGGTCTCcctttt CTGTCAGACCAAGTTTACGAG   \n",
      "5  frag2_fin_R  54.627626     atatatatggGGTCTCcgCCCC GTTACATTGTCGATCTGTTCATG   \n",
      "6         seq0        NaN  atatatatggGGTCTCcGGGcttttATGGTGAATGTGAAACCAGTA...   \n",
      "7         seq1        NaN  atatatatggGGTCTCcGTAGCGAAGACGTTATCAAAGAGTTCATG...   \n",
      "8         seq2        NaN  atatatatggGGTCTCccttttCTGTCAGACCAAGTTTACGAGCTC...   \n",
      "\n",
      "                  annealed  strand  \n",
      "0  ATGGTGAATGTGAAACCAGTAAC     1.0  \n",
      "1        TTACTGCCCGCTTTCCA    -1.0  \n",
      "2   GTAGCGAAGACGTTATCAAAGA     1.0  \n",
      "3       TTAAGCACCGGTGGAGTG    -1.0  \n",
      "4    CTGTCAGACCAAGTTTACGAG     1.0  \n",
      "5  GTTACATTGTCGATCTGTTCATG    -1.0  \n",
      "6                      NaN     NaN  \n",
      "7                      NaN     NaN  \n",
      "8                      NaN     NaN  \n"
     ]
    },
    {
     "name": "stderr",
     "output_type": "stream",
     "text": [
      "/home/zchen/Public/python/lib/python3.11/site-packages/scipy/optimize/_numdiff.py:576: RuntimeWarning: invalid value encountered in subtract\n",
      "  df = fun(x) - f0\n"
     ]
    }
   ],
   "source": [
    "LacI, RFP, vec = get_parts()\n",
    "seq = []\n",
    "seq+= [['',LacI,'AAAActttt']]\n",
    "seq+= [['',RFP,'CGCCctttt']]\n",
    "seq+= [['',vec,'GGGGctttt']]\n",
    "\n",
    "pcr = pge.Designer()\n",
    "pcr.params['goldengate']['window'] = 20 # +/i window in bp around frag edges to look for overlap\n",
    "pcr.params['goldengate']['ggN'] = 4     # length of golden gate overlap\n",
    "pcr.params['goldengate']['ggsite'] = 'GGTCTCc'     # golden gate enzyme site\n",
    "pcr.params['goldengate']['padding'] = 'atatatatgg' # padding around the golden gate site\n",
    "pcr.params['xtPCR']['len'] = [15, 60]  # defines the [min, max] primer lengths\n",
    "pcr.params['xtPCR']['nM'] = [20, 500] # defines the [seed, finisher] primer conc in nM\n",
    "pcr.params['xtPCR']['Tm'] = 55 # defines the [seed, finisher] primer conc in nM\n",
    "\n",
    "res = pcr.GoldenGate(seq)\n",
    "print(res)"
   ]
  },
  {
   "cell_type": "code",
   "execution_count": null,
   "id": "43b9d179-4a07-421c-b2d0-20814bf2873c",
   "metadata": {},
   "outputs": [],
   "source": []
  }
 ],
 "metadata": {
  "kernelspec": {
   "display_name": "Python 3 (ipykernel)",
   "language": "python",
   "name": "python3"
  },
  "language_info": {
   "codemirror_mode": {
    "name": "ipython",
    "version": 3
   },
   "file_extension": ".py",
   "mimetype": "text/x-python",
   "name": "python",
   "nbconvert_exporter": "python",
   "pygments_lexer": "ipython3",
   "version": "3.11.4"
  }
 },
 "nbformat": 4,
 "nbformat_minor": 5
}
