{
 "cells": [
  {
   "cell_type": "markdown",
   "id": "e0c986a8-9997-42ed-9b87-aae8b0243866",
   "metadata": {},
   "source": [
    "# Designing primers\n",
    "This notebook illustrates the various functions contained in the `designer` class, which can be used to generate primers for extension PCR and DNA assembly."
   ]
  },
  {
   "cell_type": "code",
   "execution_count": 1,
   "id": "6615ef09-9e39-4b29-9886-fe81c402b715",
   "metadata": {
    "tags": []
   },
   "outputs": [
    {
     "data": {
      "text/plain": [
       "<module 'plasmid' from '/home/peguin/python/lib/python3.9/site-packages/plasmid/__init__.py'>"
      ]
     },
     "execution_count": 1,
     "metadata": {},
     "output_type": "execute_result"
    }
   ],
   "source": [
    "import plasmid as pge\n",
    "import importlib\n",
    "importlib.reload(pge)"
   ]
  },
  {
   "cell_type": "markdown",
   "id": "691d329a-2ad6-4928-91c6-4bea2d330668",
   "metadata": {},
   "source": [
    "<a class=\"anchor\" id=\"xtPCR\"></a>\n",
    "## Extension PCR\n",
    "[Extension PCR](https://en.wikipedia.org/wiki/Overlap_extension_polymerase_chain_reaction) uses primers with overlapping annealing sites to assemble a larger DNA fragment. This method is useful for adding promoters, ribosome binding sites, or cloning overhangs onto a larger gene fragment. \n",
    "\n",
    "The `Designer` class has the following parameters and functions associated with extension PCR."
   ]
  },
  {
   "cell_type": "code",
   "execution_count": 2,
   "id": "0e5833e2-bc46-4b3c-8dfe-1ffa38637d82",
   "metadata": {
    "tags": []
   },
   "outputs": [
    {
     "name": "stdout",
     "output_type": "stream",
     "text": [
      "Help on method xtPCR in module plasmid.designer:\n",
      "\n",
      "xtPCR(fL, seq, fR=None, padding=[2, 2], niter=3, w=[10, 100, 1, 1, 2], get_cost=False) method of plasmid.designer.Designer instance\n",
      "    Find primers which can seed and extend a PCR fragment\n",
      "    fL = flanking sequence on 5' end\n",
      "    seq = sequence on 3' end which gets amplified\n",
      "    fR = flanking sequence on 3' end\n",
      "    padding = number of extra primers to try\n",
      "    w = weights for cost function\n",
      "    method = optimization method\n",
      "    returns list of primers\n",
      "\n",
      "parameters for extension PCR\n",
      "{'Tm': 50, 'len': [15, 60], 'nM': [20, 500], 'Na': 50}\n"
     ]
    }
   ],
   "source": [
    "pcr = pge.Designer()\n",
    "help(pcr.xtPCR)\n",
    "print('parameters for extension PCR')\n",
    "print(pcr.params['xtPCR'])"
   ]
  },
  {
   "cell_type": "markdown",
   "id": "c296be10-7f4b-482e-99c2-a796bdaa66e9",
   "metadata": {},
   "source": [
    "`Tm` is the target melting temperature for all primers.\n",
    "\n",
    "`len` is min and max primer lengths allowed in the design.\n",
    "\n",
    "`nM` is the concentration of seed and finishing primers used in the reaction.\n",
    "\n",
    "`Na` is the salt concentration of the PCR reaction.\n",
    "\n",
    "These parameters are used to compute the thermodynamic properties of the PCR reaction such as annealing temperature. In the backend, several optimization algorithms can be used to find the optimal primer sequences that minimize deviation from the target annealing temperature and off target binding."
   ]
  },
  {
   "cell_type": "markdown",
   "id": "e3ae3942-deb7-45de-9972-02fb6c9981c3",
   "metadata": {},
   "source": [
    "<a class=\"anchor\" id=\"running_xtPCR\"></a>\n",
    "### Running extension PCR\n",
    "The following code blocks generate a generic gene fragment from RFP, RBS, and pLac promoters. Extension PCR is used to add the pLac promoter and ribosome binding site sequences onto the RFP gene."
   ]
  },
  {
   "cell_type": "code",
   "execution_count": 3,
   "id": "6de9a6bf-f33b-4d3b-98f2-f058815713d0",
   "metadata": {
    "tags": []
   },
   "outputs": [
    {
     "name": "stdout",
     "output_type": "stream",
     "text": [
      "reading  ../data/dcas9_RFP.gb  as genbank file\n",
      "reading  ../data/xRFP.gb  as genbank file\n",
      "reading  ../data/xRFP.gb  as genbank file\n"
     ]
    }
   ],
   "source": [
    "# slice out the RFP gene\n",
    "RFP = pge.read_genbank('../data/dcas9_RFP.gb')\n",
    "RFP = RFP[RFP['locus_tag'].str.contains('mRFP')].splice()\n",
    "# slice out the ribosome binding site\n",
    "RBS = pge.read_genbank('../data/xRFP.gb')\n",
    "RBS = RBS[RBS['locus_tag'].str.contains('BBa_B0034')].splice()\n",
    "# slice out the promoter\n",
    "pLac = pge.read_genbank('../data/xRFP.gb')\n",
    "pLac = pLac[pLac['locus_tag'].str.contains('pLac')].splice()\n",
    "\n",
    "# assemble the promoter, rbs, and mRFP\n",
    "df = pLac + 'gagacc' + RBS + 'ggtctc' + RFP"
   ]
  },
  {
   "cell_type": "code",
   "execution_count": 4,
   "id": "bfe6916f-8a87-458f-a3c6-b57cf5d87b5d",
   "metadata": {
    "tags": []
   },
   "outputs": [
    {
     "name": "stdout",
     "output_type": "stream",
     "text": [
      "running fwd\n"
     ]
    },
    {
     "name": "stdout",
     "output_type": "stream",
     "text": [
      "running rev\n"
     ]
    },
    {
     "name": "stdout",
     "output_type": "stream",
     "text": [
      "  locus_tag         Tm                                           sequence  \\\n",
      "0       0_F  56.437456  ACAgagaccAAAGAGGAGAAAggtctc ATGGCGAGTAGCGAAGAC...   \n",
      "1     fin_F  55.207985  AATTGACAATGTGAGCGAGTAACAAGATACTGAGC ACAgagaccA...   \n",
      "0     fin_R  56.777386                                 TTAAGCACCGGTGGAGTG   \n",
      "\n",
      "                   annealed  strand  \n",
      "0  ATGGCGAGTAGCGAAGACGTTATC       1  \n",
      "1     ACAgagaccAAAGAGGAGAAA       1  \n",
      "0        TTAAGCACCGGTGGAGTG      -1  \n"
     ]
    }
   ],
   "source": [
    "pcr = pge.Designer()\n",
    "pcr.params['xtPCR']['Tm'] = 55         # target annealing temperature for xtPCR\n",
    "pcr.params['xtPCR']['len'] = [15, 60]  # defines the [min, max] primer lengths\n",
    "pcr.params['xtPCR']['Nm'] = [25,500]   # defines the seed and finishing primer concentration in nM\n",
    "pcr.params['verbose'] = False\n",
    "\n",
    "insert = pLac + 'gagacc' + RBS + 'ggtctc'\n",
    "res = pcr.xtPCR(insert, RFP, ' ')\n",
    "print(res)"
   ]
  },
  {
   "cell_type": "markdown",
   "id": "418fe921-8820-4674-884f-c786c0ae4b7c",
   "metadata": {},
   "source": [
    "In the above output dataframe, `fin_F` and `fin_R` are the finishing primers (used at 500nM), which are the last set of primers to amplify in the PCR reaction. `0_F` is a forward primer (used at 25nM) associated with seeding and extending the sequence from the 5' end of the oligo.\n",
    "\n",
    "In an extension PCR reaction, all these primers would be mixed together to generate the desired oligo at the target annealing tempertaure."
   ]
  },
  {
   "cell_type": "markdown",
   "id": "fec38134-d3fe-4754-92ac-36990f128427",
   "metadata": {},
   "source": [
    "<a class=\"anchor\" id=\"gibson\"></a>\n",
    "## Gibson Assembly\n",
    "[Gibson Assembly](https://www.neb.com/applications/cloning-and-synthetic-biology/dna-assembly-and-cloning/nebuilder-hifi-dna-assembly) uses exonucleases to reveal basepair overlaps between multiple DNA oligos. These overlaps can anneal and assemble into a longer DNA fragment. The following shows how to design primers for amplifying individual DNA fragments that can later be assembled into a longer construct. \n",
    "\n",
    "In the design process, optimal overlaps are first found via optimization. Next [xtPCR](#xtPCR) is used to design primers which can add the proper overlaps to the DNA oligos."
   ]
  },
  {
   "cell_type": "code",
   "execution_count": 5,
   "id": "94e8695f-c592-4665-8688-1daf8c9c00fa",
   "metadata": {
    "tags": []
   },
   "outputs": [
    {
     "name": "stdout",
     "output_type": "stream",
     "text": [
      "Help on method Gibson in module plasmid.designer:\n",
      "\n",
      "Gibson(seqlist, w=[10, 1], method='differential_evolution', circular=True) method of plasmid.designer.Designer instance\n",
      "    Design primers for gibson assembly\n",
      "    seqlist = list of sequences to assemble via gibson in order \n",
      "    circular = assemble fragments into a circular construct\n",
      "    returns list of primers\n",
      "\n",
      "{'Tm': 50, 'nM': 500, 'len': 30, 'window': 40}\n"
     ]
    }
   ],
   "source": [
    "pcr = pge.Designer()\n",
    "help(pcr.Gibson)\n",
    "print(pcr.params['gibson'])"
   ]
  },
  {
   "cell_type": "markdown",
   "id": "bb2ac422-6563-434e-a93b-7099f3309636",
   "metadata": {},
   "source": [
    "`Tm` is the target melting temperature of the overlaps.\n",
    "\n",
    "`nM` is the concentration of the oligos.\n",
    "\n",
    "`len` is the overlap length.\n",
    "\n",
    "`window` is the window of sequences from the fragment edges from which to check for optimal overlaps.\n",
    "\n",
    "These parameters are used to compute the annealing temperature of the overlap such that the target annealing temperature can be reached and overlaps minimize off target binding."
   ]
  },
  {
   "cell_type": "markdown",
   "id": "c53c7d21-15ff-4288-b1b2-f880f5434c65",
   "metadata": {},
   "source": [
    "### Running gibson assembly\n",
    "The following code blocks generate a new construct from LacI, RFP, and plasmid vector. Gibson is used to generate primers and oligos with optimal annealing overlaps."
   ]
  },
  {
   "cell_type": "code",
   "execution_count": 6,
   "id": "7a971588-f759-4fe2-8390-a890ad689bc1",
   "metadata": {
    "tags": []
   },
   "outputs": [],
   "source": [
    "def get_parts():\n",
    "    # slice out the LacI gene\n",
    "    LacI = pge.read_genbank('../data/xRFP.gb')\n",
    "    LacI = LacI[LacI['locus_tag'].str.contains('LacI')].splice()\n",
    "\n",
    "    # slice out the RFP gene\n",
    "    RFP = pge.read_genbank('../data/dcas9_RFP.gb')\n",
    "    RFP = RFP[RFP['locus_tag'].str.contains('mRFP')].splice()\n",
    "\n",
    "    # slice out the origin of replication\n",
    "    df = pge.read_genbank('../data/xRFP.gb')\n",
    "    vec = df[df['locus_tag'].str.contains('pSC101')]\n",
    "    start = vec['start'][0]\n",
    "    stop = vec['end'][0]\n",
    "    vec = df[start:stop]\n",
    "    return LacI, RFP, vec"
   ]
  },
  {
   "cell_type": "code",
   "execution_count": 7,
   "id": "80638f89-eabe-4a88-9bb2-1eb27868ed4e",
   "metadata": {
    "tags": []
   },
   "outputs": [
    {
     "name": "stdout",
     "output_type": "stream",
     "text": [
      "reading  ../data/xRFP.gb  as genbank file\n",
      "reading  ../data/dcas9_RFP.gb  as genbank file\n",
      "reading  ../data/xRFP.gb  as genbank file\n"
     ]
    },
    {
     "name": "stdout",
     "output_type": "stream",
     "text": [
      "res.x [11.51496424  1.67750846 15.96703809]\n",
      "res.fun -54.0\n",
      "exclude: []\n",
      "overlaps: ['CGGGCAGTAAAAAActttt ', 'GTCACTCCACCGGTGCTTAA', 'GATCGACAATGTAAC ATGG']\n",
      "Tm overlap: [45.828042650749126, 53.47392347753578, 45.13818370718934]\n",
      "processing primers for frag 0\n",
      "running fwd\n"
     ]
    },
    {
     "name": "stdout",
     "output_type": "stream",
     "text": [
      "running rev\n"
     ]
    },
    {
     "name": "stdout",
     "output_type": "stream",
     "text": [
      "processing primers for frag 1\n",
      "running fwd\n"
     ]
    },
    {
     "name": "stdout",
     "output_type": "stream",
     "text": [
      "running rev\n"
     ]
    },
    {
     "name": "stderr",
     "output_type": "stream",
     "text": [
      "parasail_sg_flags_scan_avx2_256_16: s2Len must be > 0\n"
     ]
    },
    {
     "ename": "RuntimeError",
     "evalue": "The map-like callable must be of the form f(func, iterable), returning a sequence of numbers the same length as 'iterable'",
     "output_type": "error",
     "traceback": [
      "\u001b[0;31m---------------------------------------------------------------------------\u001b[0m",
      "\u001b[0;31mValueError\u001b[0m                                Traceback (most recent call last)",
      "\u001b[0;32m~/python/lib/python3.9/site-packages/scipy/optimize/_differentialevolution.py\u001b[0m in \u001b[0;36m?\u001b[0;34m(self, population)\u001b[0m\n\u001b[1;32m   1151\u001b[0m             \u001b[0;31m# wrong number of arguments for _mapwrapper\u001b[0m\u001b[0;34m\u001b[0m\u001b[0;34m\u001b[0m\u001b[0;34m\u001b[0m\u001b[0m\n\u001b[1;32m   1152\u001b[0m             \u001b[0;31m# or wrong length returned from the mapper\u001b[0m\u001b[0;34m\u001b[0m\u001b[0;34m\u001b[0m\u001b[0;34m\u001b[0m\u001b[0m\n\u001b[0;32m-> 1153\u001b[0;31m             raise RuntimeError(\n\u001b[0m\u001b[1;32m   1154\u001b[0m                 \u001b[0;34m\"The map-like callable must be of the form f(func, iterable), \"\u001b[0m\u001b[0;34m\u001b[0m\u001b[0;34m\u001b[0m\u001b[0m\n",
      "\u001b[0;32m~/python/lib/python3.9/site-packages/scipy/_lib/_util.py\u001b[0m in \u001b[0;36m?\u001b[0;34m(self, x)\u001b[0m\n\u001b[1;32m    359\u001b[0m     \u001b[0;32mdef\u001b[0m \u001b[0m__call__\u001b[0m\u001b[0;34m(\u001b[0m\u001b[0mself\u001b[0m\u001b[0;34m,\u001b[0m \u001b[0mx\u001b[0m\u001b[0;34m)\u001b[0m\u001b[0;34m:\u001b[0m\u001b[0;34m\u001b[0m\u001b[0;34m\u001b[0m\u001b[0m\n\u001b[0;32m--> 360\u001b[0;31m         \u001b[0;32mreturn\u001b[0m \u001b[0mself\u001b[0m\u001b[0;34m.\u001b[0m\u001b[0mf\u001b[0m\u001b[0;34m(\u001b[0m\u001b[0mx\u001b[0m\u001b[0;34m,\u001b[0m \u001b[0;34m*\u001b[0m\u001b[0mself\u001b[0m\u001b[0;34m.\u001b[0m\u001b[0margs\u001b[0m\u001b[0;34m)\u001b[0m\u001b[0;34m\u001b[0m\u001b[0;34m\u001b[0m\u001b[0m\n\u001b[0m",
      "\u001b[0;32m~/python/lib/python3.9/site-packages/plasmid/designer.py\u001b[0m in \u001b[0;36m?\u001b[0;34m(self, pos, fL, seq, w, verbose)\u001b[0m\n\u001b[1;32m    233\u001b[0m         \u001b[0;31m# cross reactivity\u001b[0m\u001b[0;34m\u001b[0m\u001b[0;34m\u001b[0m\u001b[0;34m\u001b[0m\u001b[0m\n\u001b[1;32m    234\u001b[0m         \u001b[0;32mif\u001b[0m \u001b[0mw\u001b[0m\u001b[0;34m[\u001b[0m\u001b[0;36m4\u001b[0m\u001b[0;34m]\u001b[0m\u001b[0;34m!=\u001b[0m\u001b[0;36m0\u001b[0m\u001b[0;34m:\u001b[0m\u001b[0;34m\u001b[0m\u001b[0;34m\u001b[0m\u001b[0m\n\u001b[0;32m--> 235\u001b[0;31m             \u001b[0mcost\u001b[0m\u001b[0;34m[\u001b[0m\u001b[0;36m4\u001b[0m\u001b[0;34m]\u001b[0m \u001b[0;34m=\u001b[0m \u001b[0mself\u001b[0m\u001b[0;34m.\u001b[0m\u001b[0mxtPCR_crosscheck\u001b[0m\u001b[0;34m(\u001b[0m\u001b[0mpos\u001b[0m\u001b[0;34m,\u001b[0m \u001b[0mfL\u001b[0m\u001b[0;34m,\u001b[0m \u001b[0mseq\u001b[0m\u001b[0;34m)\u001b[0m\u001b[0;34m\u001b[0m\u001b[0;34m\u001b[0m\u001b[0m\n\u001b[0m\u001b[1;32m    236\u001b[0m         \u001b[0;32mif\u001b[0m \u001b[0mverbose\u001b[0m\u001b[0;34m:\u001b[0m\u001b[0;34m\u001b[0m\u001b[0;34m\u001b[0m\u001b[0m\n",
      "\u001b[0;32m~/python/lib/python3.9/site-packages/plasmid/designer.py\u001b[0m in \u001b[0;36m?\u001b[0;34m(self, pos, fL, seq)\u001b[0m\n\u001b[1;32m    296\u001b[0m             \u001b[0;31m# score cross reactivity\u001b[0m\u001b[0;34m\u001b[0m\u001b[0;34m\u001b[0m\u001b[0;34m\u001b[0m\u001b[0m\n\u001b[1;32m    297\u001b[0m             \u001b[0mres1\u001b[0m \u001b[0;34m=\u001b[0m \u001b[0mparasail\u001b[0m\u001b[0;34m.\u001b[0m\u001b[0msg_scan_16\u001b[0m\u001b[0;34m(\u001b[0m\u001b[0mannealed\u001b[0m\u001b[0;34m,\u001b[0m \u001b[0mannealed\u001b[0m\u001b[0;34m,\u001b[0m \u001b[0mg1\u001b[0m\u001b[0;34m,\u001b[0m \u001b[0mg2\u001b[0m\u001b[0;34m,\u001b[0m \u001b[0mparasail\u001b[0m\u001b[0;34m.\u001b[0m\u001b[0mnuc44\u001b[0m\u001b[0;34m)\u001b[0m\u001b[0;34m\u001b[0m\u001b[0;34m\u001b[0m\u001b[0m\n\u001b[0;32m--> 298\u001b[0;31m             \u001b[0mscore\u001b[0m\u001b[0;34m.\u001b[0m\u001b[0mappend\u001b[0m\u001b[0;34m(\u001b[0m\u001b[0mres1\u001b[0m\u001b[0;34m.\u001b[0m\u001b[0mscore\u001b[0m \u001b[0;34m-\u001b[0m \u001b[0mself\u001b[0m\u001b[0;34m.\u001b[0m\u001b[0mget_reactivity\u001b[0m\u001b[0;34m(\u001b[0m\u001b[0mannealed\u001b[0m\u001b[0;34m,\u001b[0m \u001b[0mexclude\u001b[0m\u001b[0;34m,\u001b[0m \u001b[0mres1\u001b[0m\u001b[0;34m.\u001b[0m\u001b[0mscore\u001b[0m\u001b[0;34m)\u001b[0m\u001b[0;34m)\u001b[0m\u001b[0;34m\u001b[0m\u001b[0;34m\u001b[0m\u001b[0m\n\u001b[0m\u001b[1;32m    299\u001b[0m \u001b[0;34m\u001b[0m\u001b[0m\n",
      "\u001b[0;32m~/python/lib/python3.9/site-packages/plasmid/designer.py\u001b[0m in \u001b[0;36m?\u001b[0;34m(self, seq, seqlist, best)\u001b[0m\n\u001b[1;32m    548\u001b[0m         \u001b[0;32mfor\u001b[0m \u001b[0mj\u001b[0m \u001b[0;32min\u001b[0m \u001b[0mrange\u001b[0m\u001b[0;34m(\u001b[0m\u001b[0mlen\u001b[0m\u001b[0;34m(\u001b[0m\u001b[0mseqlist\u001b[0m\u001b[0;34m)\u001b[0m\u001b[0;34m)\u001b[0m\u001b[0;34m:\u001b[0m\u001b[0;34m\u001b[0m\u001b[0;34m\u001b[0m\u001b[0m\n\u001b[1;32m    549\u001b[0m             \u001b[0mres2\u001b[0m \u001b[0;34m=\u001b[0m \u001b[0mparasail\u001b[0m\u001b[0;34m.\u001b[0m\u001b[0msg_scan_16\u001b[0m\u001b[0;34m(\u001b[0m\u001b[0mseq\u001b[0m\u001b[0;34m,\u001b[0m \u001b[0mseqlist\u001b[0m\u001b[0;34m[\u001b[0m\u001b[0mj\u001b[0m\u001b[0;34m]\u001b[0m\u001b[0;34m,\u001b[0m \u001b[0mg1\u001b[0m\u001b[0;34m,\u001b[0m \u001b[0mg2\u001b[0m\u001b[0;34m,\u001b[0m \u001b[0mparasail\u001b[0m\u001b[0;34m.\u001b[0m\u001b[0mnuc44\u001b[0m\u001b[0;34m)\u001b[0m\u001b[0;34m\u001b[0m\u001b[0;34m\u001b[0m\u001b[0m\n\u001b[0;32m--> 550\u001b[0;31m             \u001b[0mscore\u001b[0m \u001b[0;34m=\u001b[0m \u001b[0mnp\u001b[0m\u001b[0;34m.\u001b[0m\u001b[0mmax\u001b[0m\u001b[0;34m(\u001b[0m\u001b[0;34m[\u001b[0m\u001b[0mscore\u001b[0m\u001b[0;34m,\u001b[0m \u001b[0mres2\u001b[0m\u001b[0;34m.\u001b[0m\u001b[0mscore\u001b[0m\u001b[0;34m]\u001b[0m\u001b[0;34m)\u001b[0m\u001b[0;34m\u001b[0m\u001b[0;34m\u001b[0m\u001b[0m\n\u001b[0m\u001b[1;32m    551\u001b[0m             \u001b[0;32mif\u001b[0m \u001b[0mbest\u001b[0m\u001b[0;34m!=\u001b[0m\u001b[0;32mNone\u001b[0m \u001b[0;32mand\u001b[0m \u001b[0mbest\u001b[0m\u001b[0;34m==\u001b[0m\u001b[0mres2\u001b[0m\u001b[0;34m.\u001b[0m\u001b[0mscore\u001b[0m\u001b[0;34m:\u001b[0m\u001b[0;34m\u001b[0m\u001b[0;34m\u001b[0m\u001b[0m\n",
      "\u001b[0;32m~/python/lib/python3.9/site-packages/parasail/bindings_v2.py\u001b[0m in \u001b[0;36m?\u001b[0;34m(self)\u001b[0m\n\u001b[1;32m    279\u001b[0m     \u001b[0;34m@\u001b[0m\u001b[0mproperty\u001b[0m\u001b[0;34m\u001b[0m\u001b[0;34m\u001b[0m\u001b[0m\n\u001b[1;32m    280\u001b[0m     \u001b[0;32mdef\u001b[0m \u001b[0mscore\u001b[0m\u001b[0;34m(\u001b[0m\u001b[0mself\u001b[0m\u001b[0;34m)\u001b[0m\u001b[0;34m:\u001b[0m\u001b[0;34m\u001b[0m\u001b[0;34m\u001b[0m\u001b[0m\n\u001b[0;32m--> 281\u001b[0;31m         \u001b[0;32mreturn\u001b[0m \u001b[0mself\u001b[0m\u001b[0;34m.\u001b[0m\u001b[0mpointer\u001b[0m\u001b[0;34m[\u001b[0m\u001b[0;36m0\u001b[0m\u001b[0;34m]\u001b[0m\u001b[0;34m.\u001b[0m\u001b[0mscore\u001b[0m\u001b[0;34m\u001b[0m\u001b[0;34m\u001b[0m\u001b[0m\n\u001b[0m",
      "\u001b[0;31mValueError\u001b[0m: NULL pointer access",
      "\nThe above exception was the direct cause of the following exception:\n",
      "\u001b[0;31mRuntimeError\u001b[0m                              Traceback (most recent call last)",
      "Cell \u001b[0;32mIn[7], line 18\u001b[0m\n\u001b[1;32m     15\u001b[0m pcr\u001b[38;5;241m.\u001b[39mparams[\u001b[38;5;124m'\u001b[39m\u001b[38;5;124mxtPCR\u001b[39m\u001b[38;5;124m'\u001b[39m][\u001b[38;5;124m'\u001b[39m\u001b[38;5;124mnM\u001b[39m\u001b[38;5;124m'\u001b[39m] \u001b[38;5;241m=\u001b[39m [\u001b[38;5;241m20\u001b[39m, \u001b[38;5;241m500\u001b[39m]  \u001b[38;5;66;03m# defines the [seed, finisher] primer conc in nM\u001b[39;00m\n\u001b[1;32m     16\u001b[0m pcr\u001b[38;5;241m.\u001b[39mparams[\u001b[38;5;124m'\u001b[39m\u001b[38;5;124mverbose\u001b[39m\u001b[38;5;124m'\u001b[39m] \u001b[38;5;241m=\u001b[39m \u001b[38;5;28;01mFalse\u001b[39;00m\n\u001b[0;32m---> 18\u001b[0m res \u001b[38;5;241m=\u001b[39m \u001b[43mpcr\u001b[49m\u001b[38;5;241;43m.\u001b[39;49m\u001b[43mGibson\u001b[49m\u001b[43m(\u001b[49m\u001b[43mseq\u001b[49m\u001b[43m)\u001b[49m\n\u001b[1;32m     19\u001b[0m \u001b[38;5;28mprint\u001b[39m(res)\n",
      "File \u001b[0;32m~/python/lib/python3.9/site-packages/plasmid/designer.py:568\u001b[0m, in \u001b[0;36mDesigner.Gibson\u001b[0;34m(self, seqlist, w, method, circular)\u001b[0m\n\u001b[1;32m    566\u001b[0m \u001b[38;5;28mself\u001b[39m\u001b[38;5;241m.\u001b[39mparams[\u001b[38;5;124m'\u001b[39m\u001b[38;5;124mgoldengate\u001b[39m\u001b[38;5;124m'\u001b[39m][\u001b[38;5;124m'\u001b[39m\u001b[38;5;124mggsite\u001b[39m\u001b[38;5;124m'\u001b[39m] \u001b[38;5;241m=\u001b[39m \u001b[38;5;124m'\u001b[39m\u001b[38;5;124m'\u001b[39m\n\u001b[1;32m    567\u001b[0m \u001b[38;5;28mself\u001b[39m\u001b[38;5;241m.\u001b[39mparams[\u001b[38;5;124m'\u001b[39m\u001b[38;5;124mgoldengate\u001b[39m\u001b[38;5;124m'\u001b[39m][\u001b[38;5;124m'\u001b[39m\u001b[38;5;124mpadding\u001b[39m\u001b[38;5;124m'\u001b[39m] \u001b[38;5;241m=\u001b[39m \u001b[38;5;124m'\u001b[39m\u001b[38;5;124m'\u001b[39m\n\u001b[0;32m--> 568\u001b[0m \u001b[38;5;28;01mreturn\u001b[39;00m \u001b[38;5;28;43mself\u001b[39;49m\u001b[38;5;241;43m.\u001b[39;49m\u001b[43mGoldenGate\u001b[49m\u001b[43m(\u001b[49m\u001b[43mseqlist\u001b[49m\u001b[43m,\u001b[49m\u001b[43m \u001b[49m\u001b[43mcircular\u001b[49m\u001b[38;5;241;43m=\u001b[39;49m\u001b[43mcircular\u001b[49m\u001b[43m)\u001b[49m\n",
      "File \u001b[0;32m~/python/lib/python3.9/site-packages/plasmid/designer.py:489\u001b[0m, in \u001b[0;36mDesigner.GoldenGate\u001b[0;34m(self, seqlist, exclude, w, circular)\u001b[0m\n\u001b[1;32m    487\u001b[0m \u001b[38;5;28mprint\u001b[39m(\u001b[38;5;124m'\u001b[39m\u001b[38;5;124mprocessing primers for frag\u001b[39m\u001b[38;5;124m'\u001b[39m,i)\n\u001b[1;32m    488\u001b[0m [fL, seq, fR] \u001b[38;5;241m=\u001b[39m frags[i]\n\u001b[0;32m--> 489\u001b[0m p \u001b[38;5;241m=\u001b[39m \u001b[38;5;28;43mself\u001b[39;49m\u001b[38;5;241;43m.\u001b[39;49m\u001b[43mxtPCR\u001b[49m\u001b[43m(\u001b[49m\u001b[43mfL\u001b[49m\u001b[43m,\u001b[49m\u001b[43m \u001b[49m\u001b[43mseq\u001b[49m\u001b[43m,\u001b[49m\u001b[43m \u001b[49m\u001b[43mfR\u001b[49m\u001b[43m)\u001b[49m\n\u001b[1;32m    490\u001b[0m p[\u001b[38;5;124m'\u001b[39m\u001b[38;5;124mlocus_tag\u001b[39m\u001b[38;5;124m'\u001b[39m] \u001b[38;5;241m=\u001b[39m [\u001b[38;5;124m'\u001b[39m\u001b[38;5;124mfrag\u001b[39m\u001b[38;5;124m'\u001b[39m\u001b[38;5;241m+\u001b[39m\u001b[38;5;28mstr\u001b[39m(i)\u001b[38;5;241m+\u001b[39m\u001b[38;5;124m'\u001b[39m\u001b[38;5;124m_\u001b[39m\u001b[38;5;124m'\u001b[39m\u001b[38;5;241m+\u001b[39mj \u001b[38;5;28;01mfor\u001b[39;00m j \u001b[38;5;129;01min\u001b[39;00m p[\u001b[38;5;124m'\u001b[39m\u001b[38;5;124mlocus_tag\u001b[39m\u001b[38;5;124m'\u001b[39m]]\n\u001b[1;32m    491\u001b[0m out\u001b[38;5;241m.\u001b[39mappend(p)\n",
      "File \u001b[0;32m~/python/lib/python3.9/site-packages/plasmid/designer.py:190\u001b[0m, in \u001b[0;36mDesigner.xtPCR\u001b[0;34m(self, fL, seq, fR, padding, niter, w, get_cost)\u001b[0m\n\u001b[1;32m    188\u001b[0m fwd \u001b[38;5;241m=\u001b[39m df_F[\u001b[38;5;241m0\u001b[39m]\n\u001b[1;32m    189\u001b[0m \u001b[38;5;28mprint\u001b[39m(\u001b[38;5;124m'\u001b[39m\u001b[38;5;124mrunning rev\u001b[39m\u001b[38;5;124m'\u001b[39m)\n\u001b[0;32m--> 190\u001b[0m df_R \u001b[38;5;241m=\u001b[39m \u001b[38;5;28;43mself\u001b[39;49m\u001b[38;5;241;43m.\u001b[39;49m\u001b[43mxtPCR\u001b[49m\u001b[43m(\u001b[49m\u001b[43mfR\u001b[49m\u001b[43m,\u001b[49m\u001b[43m \u001b[49m\u001b[43mseqR\u001b[49m\u001b[43m,\u001b[49m\u001b[43m \u001b[49m\u001b[43mpadding\u001b[49m\u001b[38;5;241;43m=\u001b[39;49m\u001b[43mpadding\u001b[49m\u001b[43m[\u001b[49m\u001b[43m:\u001b[49m\u001b[43m:\u001b[49m\u001b[38;5;241;43m-\u001b[39;49m\u001b[38;5;241;43m1\u001b[39;49m\u001b[43m]\u001b[49m\u001b[43m,\u001b[49m\u001b[43m \u001b[49m\u001b[43mw\u001b[49m\u001b[38;5;241;43m=\u001b[39;49m\u001b[43mw\u001b[49m\u001b[43m,\u001b[49m\u001b[43m \u001b[49m\u001b[43mget_cost\u001b[49m\u001b[38;5;241;43m=\u001b[39;49m\u001b[43mget_cost\u001b[49m\u001b[43m)\u001b[49m\n\u001b[1;32m    191\u001b[0m rev \u001b[38;5;241m=\u001b[39m df_R[\u001b[38;5;241m0\u001b[39m]\n\u001b[1;32m    192\u001b[0m fwd[\u001b[38;5;124m'\u001b[39m\u001b[38;5;124mlocus_tag\u001b[39m\u001b[38;5;124m'\u001b[39m] \u001b[38;5;241m=\u001b[39m [\u001b[38;5;28mstr\u001b[39m(i)\u001b[38;5;241m+\u001b[39m\u001b[38;5;124m'\u001b[39m\u001b[38;5;124m_F\u001b[39m\u001b[38;5;124m'\u001b[39m \u001b[38;5;28;01mfor\u001b[39;00m i \u001b[38;5;129;01min\u001b[39;00m \u001b[38;5;28mrange\u001b[39m(\u001b[38;5;28mlen\u001b[39m(fwd)\u001b[38;5;241m-\u001b[39m\u001b[38;5;241m1\u001b[39m)] \u001b[38;5;241m+\u001b[39m [\u001b[38;5;124m'\u001b[39m\u001b[38;5;124mfin_F\u001b[39m\u001b[38;5;124m'\u001b[39m]\n",
      "File \u001b[0;32m~/python/lib/python3.9/site-packages/plasmid/designer.py:158\u001b[0m, in \u001b[0;36mDesigner.xtPCR\u001b[0;34m(self, fL, seq, fR, padding, niter, w, get_cost)\u001b[0m\n\u001b[1;32m    156\u001b[0m bounds \u001b[38;5;241m=\u001b[39m [(\u001b[38;5;28mself\u001b[39m\u001b[38;5;241m.\u001b[39mparams[\u001b[38;5;124m'\u001b[39m\u001b[38;5;124mxtPCR\u001b[39m\u001b[38;5;124m'\u001b[39m][\u001b[38;5;124m'\u001b[39m\u001b[38;5;124mlen\u001b[39m\u001b[38;5;124m'\u001b[39m][\u001b[38;5;241m0\u001b[39m], \u001b[38;5;28mself\u001b[39m\u001b[38;5;241m.\u001b[39mparams[\u001b[38;5;124m'\u001b[39m\u001b[38;5;124mxtPCR\u001b[39m\u001b[38;5;124m'\u001b[39m][\u001b[38;5;124m'\u001b[39m\u001b[38;5;124mlen\u001b[39m\u001b[38;5;124m'\u001b[39m][\u001b[38;5;241m1\u001b[39m])]\u001b[38;5;241m*\u001b[39mN_left \u001b[38;5;241m+\u001b[39m [(\u001b[38;5;241m0\u001b[39m, \u001b[38;5;28mself\u001b[39m\u001b[38;5;241m.\u001b[39mparams[\u001b[38;5;124m'\u001b[39m\u001b[38;5;124mxtPCR\u001b[39m\u001b[38;5;124m'\u001b[39m][\u001b[38;5;124m'\u001b[39m\u001b[38;5;124mlen\u001b[39m\u001b[38;5;124m'\u001b[39m][\u001b[38;5;241m1\u001b[39m] \u001b[38;5;241m-\u001b[39m \u001b[38;5;28mself\u001b[39m\u001b[38;5;241m.\u001b[39mparams[\u001b[38;5;124m'\u001b[39m\u001b[38;5;124mxtPCR\u001b[39m\u001b[38;5;124m'\u001b[39m][\u001b[38;5;124m'\u001b[39m\u001b[38;5;124mlen\u001b[39m\u001b[38;5;124m'\u001b[39m][\u001b[38;5;241m0\u001b[39m])]\u001b[38;5;241m*\u001b[39mN_left\n\u001b[1;32m    157\u001b[0m x0 \u001b[38;5;241m=\u001b[39m [\u001b[38;5;28mself\u001b[39m\u001b[38;5;241m.\u001b[39mparams[\u001b[38;5;124m'\u001b[39m\u001b[38;5;124mxtPCR\u001b[39m\u001b[38;5;124m'\u001b[39m][\u001b[38;5;124m'\u001b[39m\u001b[38;5;124mlen\u001b[39m\u001b[38;5;124m'\u001b[39m][\u001b[38;5;241m0\u001b[39m]]\u001b[38;5;241m*\u001b[39mN_left \u001b[38;5;241m+\u001b[39m [\u001b[38;5;241m0\u001b[39m]\u001b[38;5;241m*\u001b[39mN_left\n\u001b[0;32m--> 158\u001b[0m res \u001b[38;5;241m=\u001b[39m \u001b[38;5;28;43mself\u001b[39;49m\u001b[38;5;241;43m.\u001b[39;49m\u001b[43moptimizer\u001b[49m\u001b[43m(\u001b[49m\u001b[38;5;28;43mself\u001b[39;49m\u001b[38;5;241;43m.\u001b[39;49m\u001b[43mxtPCR_cost\u001b[49m\u001b[43m,\u001b[49m\u001b[43m \u001b[49m\u001b[43margs\u001b[49m\u001b[43m,\u001b[49m\u001b[43m \u001b[49m\u001b[43mbounds\u001b[49m\u001b[43m,\u001b[49m\u001b[43m \u001b[49m\u001b[43mx0\u001b[49m\u001b[43m)\u001b[49m \n\u001b[1;32m    159\u001b[0m \u001b[38;5;66;03m# save the best result\u001b[39;00m\n\u001b[1;32m    160\u001b[0m \u001b[38;5;28;01mif\u001b[39;00m best_res[\u001b[38;5;241m2\u001b[39m] \u001b[38;5;241m>\u001b[39m res\u001b[38;5;241m.\u001b[39mfun:\n",
      "File \u001b[0;32m~/python/lib/python3.9/site-packages/plasmid/designer.py:93\u001b[0m, in \u001b[0;36mDesigner.optimizer\u001b[0;34m(self, cost_func, args, bounds, x0, discrete)\u001b[0m\n\u001b[1;32m     91\u001b[0m     \u001b[38;5;28;01mreturn\u001b[39;00m sp\u001b[38;5;241m.\u001b[39moptimize\u001b[38;5;241m.\u001b[39mbasinhopping(cost_func, x0, minimizer_kwargs\u001b[38;5;241m=\u001b[39mkwargs)\n\u001b[1;32m     92\u001b[0m \u001b[38;5;28;01melif\u001b[39;00m method\u001b[38;5;241m==\u001b[39m\u001b[38;5;124m'\u001b[39m\u001b[38;5;124mdifferential_evolution\u001b[39m\u001b[38;5;124m'\u001b[39m:\n\u001b[0;32m---> 93\u001b[0m     \u001b[38;5;28;01mreturn\u001b[39;00m \u001b[43msp\u001b[49m\u001b[38;5;241;43m.\u001b[39;49m\u001b[43moptimize\u001b[49m\u001b[38;5;241;43m.\u001b[39;49m\u001b[43mdifferential_evolution\u001b[49m\u001b[43m(\u001b[49m\u001b[43mcost_func\u001b[49m\u001b[43m,\u001b[49m\u001b[43m \u001b[49m\u001b[43mbounds\u001b[49m\u001b[38;5;241;43m=\u001b[39;49m\u001b[43mbounds\u001b[49m\u001b[43m,\u001b[49m\u001b[43m \u001b[49m\u001b[43margs\u001b[49m\u001b[38;5;241;43m=\u001b[39;49m\u001b[43margs\u001b[49m\u001b[43m,\u001b[49m\u001b[43m \u001b[49m\u001b[43mconstraints\u001b[49m\u001b[38;5;241;43m=\u001b[39;49m\u001b[43mcons\u001b[49m\u001b[43m)\u001b[49m\n",
      "File \u001b[0;32m~/python/lib/python3.9/site-packages/scipy/optimize/_differentialevolution.py:402\u001b[0m, in \u001b[0;36mdifferential_evolution\u001b[0;34m(func, bounds, args, strategy, maxiter, popsize, tol, mutation, recombination, seed, callback, disp, polish, init, atol, updating, workers, constraints, x0, integrality, vectorized)\u001b[0m\n\u001b[1;32m    385\u001b[0m \u001b[38;5;66;03m# using a context manager means that any created Pool objects are\u001b[39;00m\n\u001b[1;32m    386\u001b[0m \u001b[38;5;66;03m# cleared up.\u001b[39;00m\n\u001b[1;32m    387\u001b[0m \u001b[38;5;28;01mwith\u001b[39;00m DifferentialEvolutionSolver(func, bounds, args\u001b[38;5;241m=\u001b[39margs,\n\u001b[1;32m    388\u001b[0m                                  strategy\u001b[38;5;241m=\u001b[39mstrategy,\n\u001b[1;32m    389\u001b[0m                                  maxiter\u001b[38;5;241m=\u001b[39mmaxiter,\n\u001b[0;32m   (...)\u001b[0m\n\u001b[1;32m    400\u001b[0m                                  integrality\u001b[38;5;241m=\u001b[39mintegrality,\n\u001b[1;32m    401\u001b[0m                                  vectorized\u001b[38;5;241m=\u001b[39mvectorized) \u001b[38;5;28;01mas\u001b[39;00m solver:\n\u001b[0;32m--> 402\u001b[0m     ret \u001b[38;5;241m=\u001b[39m \u001b[43msolver\u001b[49m\u001b[38;5;241;43m.\u001b[39;49m\u001b[43msolve\u001b[49m\u001b[43m(\u001b[49m\u001b[43m)\u001b[49m\n\u001b[1;32m    404\u001b[0m \u001b[38;5;28;01mreturn\u001b[39;00m ret\n",
      "File \u001b[0;32m~/python/lib/python3.9/site-packages/scipy/optimize/_differentialevolution.py:1013\u001b[0m, in \u001b[0;36mDifferentialEvolutionSolver.solve\u001b[0;34m(self)\u001b[0m\n\u001b[1;32m   1008\u001b[0m     \u001b[38;5;28mself\u001b[39m\u001b[38;5;241m.\u001b[39mfeasible, \u001b[38;5;28mself\u001b[39m\u001b[38;5;241m.\u001b[39mconstraint_violation \u001b[38;5;241m=\u001b[39m (\n\u001b[1;32m   1009\u001b[0m         \u001b[38;5;28mself\u001b[39m\u001b[38;5;241m.\u001b[39m_calculate_population_feasibilities(\u001b[38;5;28mself\u001b[39m\u001b[38;5;241m.\u001b[39mpopulation))\n\u001b[1;32m   1011\u001b[0m     \u001b[38;5;66;03m# only work out population energies for feasible solutions\u001b[39;00m\n\u001b[1;32m   1012\u001b[0m     \u001b[38;5;28mself\u001b[39m\u001b[38;5;241m.\u001b[39mpopulation_energies[\u001b[38;5;28mself\u001b[39m\u001b[38;5;241m.\u001b[39mfeasible] \u001b[38;5;241m=\u001b[39m (\n\u001b[0;32m-> 1013\u001b[0m         \u001b[38;5;28;43mself\u001b[39;49m\u001b[38;5;241;43m.\u001b[39;49m\u001b[43m_calculate_population_energies\u001b[49m\u001b[43m(\u001b[49m\n\u001b[1;32m   1014\u001b[0m \u001b[43m            \u001b[49m\u001b[38;5;28;43mself\u001b[39;49m\u001b[38;5;241;43m.\u001b[39;49m\u001b[43mpopulation\u001b[49m\u001b[43m[\u001b[49m\u001b[38;5;28;43mself\u001b[39;49m\u001b[38;5;241;43m.\u001b[39;49m\u001b[43mfeasible\u001b[49m\u001b[43m]\u001b[49m\u001b[43m)\u001b[49m)\n\u001b[1;32m   1016\u001b[0m     \u001b[38;5;28mself\u001b[39m\u001b[38;5;241m.\u001b[39m_promote_lowest_energy()\n\u001b[1;32m   1018\u001b[0m \u001b[38;5;66;03m# do the optimization.\u001b[39;00m\n",
      "File \u001b[0;32m~/python/lib/python3.9/site-packages/scipy/optimize/_differentialevolution.py:1153\u001b[0m, in \u001b[0;36mDifferentialEvolutionSolver._calculate_population_energies\u001b[0;34m(self, population)\u001b[0m\n\u001b[1;32m   1149\u001b[0m     calc_energies \u001b[38;5;241m=\u001b[39m np\u001b[38;5;241m.\u001b[39msqueeze(calc_energies)\n\u001b[1;32m   1150\u001b[0m \u001b[38;5;28;01mexcept\u001b[39;00m (\u001b[38;5;167;01mTypeError\u001b[39;00m, \u001b[38;5;167;01mValueError\u001b[39;00m) \u001b[38;5;28;01mas\u001b[39;00m e:\n\u001b[1;32m   1151\u001b[0m     \u001b[38;5;66;03m# wrong number of arguments for _mapwrapper\u001b[39;00m\n\u001b[1;32m   1152\u001b[0m     \u001b[38;5;66;03m# or wrong length returned from the mapper\u001b[39;00m\n\u001b[0;32m-> 1153\u001b[0m     \u001b[38;5;28;01mraise\u001b[39;00m \u001b[38;5;167;01mRuntimeError\u001b[39;00m(\n\u001b[1;32m   1154\u001b[0m         \u001b[38;5;124m\"\u001b[39m\u001b[38;5;124mThe map-like callable must be of the form f(func, iterable), \u001b[39m\u001b[38;5;124m\"\u001b[39m\n\u001b[1;32m   1155\u001b[0m         \u001b[38;5;124m\"\u001b[39m\u001b[38;5;124mreturning a sequence of numbers the same length as \u001b[39m\u001b[38;5;124m'\u001b[39m\u001b[38;5;124miterable\u001b[39m\u001b[38;5;124m'\u001b[39m\u001b[38;5;124m\"\u001b[39m\n\u001b[1;32m   1156\u001b[0m     ) \u001b[38;5;28;01mfrom\u001b[39;00m \u001b[38;5;21;01me\u001b[39;00m\n\u001b[1;32m   1158\u001b[0m \u001b[38;5;28;01mif\u001b[39;00m calc_energies\u001b[38;5;241m.\u001b[39msize \u001b[38;5;241m!=\u001b[39m S:\n\u001b[1;32m   1159\u001b[0m     \u001b[38;5;28;01mif\u001b[39;00m \u001b[38;5;28mself\u001b[39m\u001b[38;5;241m.\u001b[39mvectorized:\n",
      "\u001b[0;31mRuntimeError\u001b[0m: The map-like callable must be of the form f(func, iterable), returning a sequence of numbers the same length as 'iterable'"
     ]
    }
   ],
   "source": [
    "# Generate the parts which need to be combined\n",
    "LacI, RFP, vec = get_parts()\n",
    "seq = []\n",
    "seq+= [[' ',LacI,'AAAActttt']] # add the LacI gene with 3' flanking sequences\n",
    "seq+= [[' ',RFP,'CGCCctttt']]  # add the RFP gene with 3' flanking sequences \n",
    "seq+= [['',vec,'']]  # add the vector\n",
    "\n",
    "pcr = pge.Designer()\n",
    "pcr.params['gibson']['Tm'] = 50     # target annealing temperature of gibson fragments    \n",
    "pcr.params['gibson']['window'] = 30 # +/i window in bp around frag edges to look for gibson overlap\n",
    "pcr.params['gibson']['len'] = 20    # length of gibson overlap\n",
    "\n",
    "pcr.params['xtPCR']['Tm'] = 55         # target annealing temperature for xtPCR\n",
    "pcr.params['xtPCR']['len'] = [15, 60]  # defines the [min, max] primer lengths\n",
    "pcr.params['xtPCR']['nM'] = [20, 500]  # defines the [seed, finisher] primer conc in nM\n",
    "pcr.params['verbose'] = False\n",
    "\n",
    "res = pcr.Gibson(seq)\n",
    "print(res)"
   ]
  },
  {
   "cell_type": "markdown",
   "id": "54ae9ada-cb7b-4b45-a91d-c4f1e4e1f56d",
   "metadata": {},
   "source": [
    "In the above output, `fin_F` and `fin_R` are the finishing primers (used at 500nM) for each gibson fragment. These are used independently in their own extension PCR reaction. After amplification, the PCR products are combined with gibson reaction mix to join the DNA oligos.\n",
    "\n",
    "seq0, seq1, and seq2 are full length fragments with the overlaps which can be order as gene fragments from vendors like Twist or IDT."
   ]
  },
  {
   "cell_type": "markdown",
   "id": "9ff41969-4672-448a-98fd-903f8e132d37",
   "metadata": {},
   "source": [
    "<a class=\"anchor\" id=\"ggate\"></a>\n",
    "## Goldengate Assembly\n",
    "[Goldengate](https://www.neb.com/applications/cloning-and-synthetic-biology/dna-assembly-and-cloning/golden-gate-assembly) assembly is another method of DNA assembly which relies on restriction enzymes to generate overlaps that can be annealed and ligated. This assembly process is more efficient than gibson assembly, but requires that the DNA oligos do not contain the restriction enzyme sites. Only the edges of the DNA fragments can contain the restriction sites.\n",
    "\n",
    "The goal of primer design is to find a set of primers which can artificially add restriction enzyme sites and overlaps to a set of DNA oligos that need to be assembled."
   ]
  },
  {
   "cell_type": "code",
   "execution_count": null,
   "id": "2a2911c4-c54f-4d1b-a4b2-b4a42e6ca375",
   "metadata": {
    "tags": []
   },
   "outputs": [],
   "source": [
    "pcr = pge.Designer()\n",
    "help(pcr.GoldenGate)\n",
    "print(pcr.params['goldengate'])"
   ]
  },
  {
   "cell_type": "markdown",
   "id": "74e12caf-46b3-4de4-bbbd-8fe5ee782a61",
   "metadata": {},
   "source": [
    "`Tm` is the target melting temperature of the overlaps.\n",
    "\n",
    "`nM` is the concentration of the oligos or DNA fragments.\n",
    "\n",
    "`padding` the extra nucleotide sequence that needs to be added to the 5' and 3' ends of the oligo after the restriction site so the enzymes can cut DNA properly.\n",
    "\n",
    "`ggsite` is the restriction enzyme to use.\n",
    "\n",
    "\n",
    "`ggN` is the overlap length generated by the restriction enzyme.\n",
    "\n",
    "`window` is the window of sequences from the fragment edges from which to check for optimal overlaps.\n",
    "\n",
    "These parameters are used to compute the annealing temperature of the overlap and primers such that oligos with the proper goldengate sites and overlaps can be generated for cloning."
   ]
  },
  {
   "cell_type": "markdown",
   "id": "29db8048-e16f-4768-a548-c76b53a3d507",
   "metadata": {},
   "source": [
    "### Running golden gate assembly\n",
    "The following code blocks generate a new construct from LacI, RFP, and plasmid vector. Goldengate is used to generate primers that add goldengate sites to the flanks of the oligos. Optimization works by first finding optimal overlaps for annealing the oligos. xtPCR is then used to add the proper goldengate sites to the oligos."
   ]
  },
  {
   "cell_type": "code",
   "execution_count": 10,
   "id": "a3bfa742-a892-4745-b7fb-3fd3060f5197",
   "metadata": {
    "tags": []
   },
   "outputs": [
    {
     "name": "stdout",
     "output_type": "stream",
     "text": [
      "reading  ../data/xRFP.gb  as genbank file\n",
      "reading  ../data/dcas9_RFP.gb  as genbank file\n",
      "reading  ../data/xRFP.gb  as genbank file\n",
      "res.x [10.34275508  4.10592271  9.27857462]\n",
      "res.fun -12.0\n",
      "exclude: []\n",
      "overlaps: ['AAAA', 'TGCT', 'ACGG']\n",
      "Tm overlap: [-79.98814282127228, -58.96562554863294, -46.79908254371483]\n",
      "processing primers for frag 0\n",
      "running fwd\n",
      "running rev\n"
     ]
    },
    {
     "name": "stderr",
     "output_type": "stream",
     "text": [
      "/home/zchen/Public/python/lib/python3.11/site-packages/scipy/optimize/_numdiff.py:576: RuntimeWarning: invalid value encountered in subtract\n",
      "  df = fun(x) - f0\n"
     ]
    },
    {
     "name": "stdout",
     "output_type": "stream",
     "text": [
      "processing primers for frag 1\n",
      "running fwd\n",
      "running rev\n",
      "processing primers for frag 2\n",
      "running fwd\n",
      "running rev\n",
      "     locus_tag         Tm                                           sequence   \n",
      "0  frag0_fin_F  55.851352  atatatatggGGTCTCcACGGGGctttt ATGGTGAATGTGAAACC...  \\\n",
      "1  frag0_fin_R  56.106442             atatatatggGGTCTCcTTT TTACTGCCCGCTTTCCA   \n",
      "2  frag1_fin_F  55.335316      atatatatggGGTCTCcAAAAActttt ATGGCGAGTAGCGAAGA   \n",
      "3  frag1_fin_R  56.119961                  atatatatggGGTCTCc AGCACCGGTGGAGTG   \n",
      "4  frag2_fin_F  55.363272  atatatatggGGTCTCcTGCTTAACGCCctttt CTGTCAGACCAA...   \n",
      "5  frag2_fin_R  54.627626        atatatatggGGTCTCcCC GTTACATTGTCGATCTGTTCATG   \n",
      "6         seq0        NaN  atatatatggGGTCTCcACGGGGcttttATGGTGAATGTGAAACCA...   \n",
      "7         seq1        NaN  atatatatggGGTCTCcAAAAActtttATGGCGAGTAGCGAAGACG...   \n",
      "8         seq2        NaN  atatatatggGGTCTCcTGCTTAACGCCcttttCTGTCAGACCAAG...   \n",
      "\n",
      "                  annealed  strand  \n",
      "0  ATGGTGAATGTGAAACCAGTAAC     1.0  \n",
      "1        TTACTGCCCGCTTTCCA    -1.0  \n",
      "2        ATGGCGAGTAGCGAAGA     1.0  \n",
      "3          AGCACCGGTGGAGTG    -1.0  \n",
      "4    CTGTCAGACCAAGTTTACGAG     1.0  \n",
      "5  GTTACATTGTCGATCTGTTCATG    -1.0  \n",
      "6                      NaN     NaN  \n",
      "7                      NaN     NaN  \n",
      "8                      NaN     NaN  \n"
     ]
    },
    {
     "name": "stderr",
     "output_type": "stream",
     "text": [
      "/home/zchen/Public/python/lib/python3.11/site-packages/scipy/optimize/_numdiff.py:576: RuntimeWarning: invalid value encountered in subtract\n",
      "  df = fun(x) - f0\n"
     ]
    }
   ],
   "source": [
    "LacI, RFP, vec = get_parts()\n",
    "seq = []\n",
    "seq+= [['',LacI,'AAAActttt']]\n",
    "seq+= [['',RFP,'CGCCctttt']]\n",
    "seq+= [['',vec,'GGGGctttt']]\n",
    "\n",
    "pcr = pge.Designer()\n",
    "pcr.params['goldengate']['window'] = 20 # +/i window in bp around frag edges to look for overlap\n",
    "pcr.params['goldengate']['ggN'] = 4     # length of golden gate overlap\n",
    "pcr.params['goldengate']['ggsite'] = 'GGTCTCc'     # golden gate enzyme site\n",
    "pcr.params['goldengate']['padding'] = 'atatatatgg' # padding around the golden gate site\n",
    "pcr.params['xtPCR']['len'] = [15, 60]  # defines the [min, max] primer lengths\n",
    "pcr.params['xtPCR']['nM'] = [20, 500] # defines the [seed, finisher] primer conc in nM\n",
    "pcr.params['xtPCR']['Tm'] = 55 # defines the [seed, finisher] primer conc in nM\n",
    "\n",
    "res = pcr.GoldenGate(seq)\n",
    "print(res)"
   ]
  },
  {
   "cell_type": "markdown",
   "id": "707aa272-4ee6-4367-afc8-27f60b136285",
   "metadata": {},
   "source": [
    "In the above output, `fin_F` and `fin_R` are the finishing primers (used at 500nM) for each goldengate fragment. These primers add BsaI sites to each gene fragment. These primers are used independently in their own extension PCR reaction. After amplification, the PCR products are combined with the golden gate enzyme and ligase to join the DNA oligos.\n",
    "\n",
    "seq0, seq1, and seq2 are full length fragments with the overlaps which can be order as gene fragments from vendors like Twist or IDT."
   ]
  }
 ],
 "metadata": {
  "kernelspec": {
   "display_name": "Python 3 (ipykernel)",
   "language": "python",
   "name": "python3"
  },
  "language_info": {
   "codemirror_mode": {
    "name": "ipython",
    "version": 3
   },
   "file_extension": ".py",
   "mimetype": "text/x-python",
   "name": "python",
   "nbconvert_exporter": "python",
   "pygments_lexer": "ipython3",
   "version": "3.9.2"
  },
  "widgets": {
   "application/vnd.jupyter.widget-state+json": {
    "state": {},
    "version_major": 2,
    "version_minor": 0
   }
  }
 },
 "nbformat": 4,
 "nbformat_minor": 5
}