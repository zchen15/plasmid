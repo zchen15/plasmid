{
 "cells": [
  {
   "cell_type": "markdown",
   "id": "e0c986a8-9997-42ed-9b87-aae8b0243866",
   "metadata": {},
   "source": [
    "# Designing primers with Plasmid\n",
    "This notebook illustrates the various functions contained in the `designer` class, which can be used to generate primers for extension PCR and DNA assembly."
   ]
  },
  {
   "cell_type": "markdown",
   "id": "36a84788-be5a-4ad5-a9db-1aeaa44a2160",
   "metadata": {},
   "source": [
    "## Table of Contents\n",
    "1. [Extension PCR](#xtPCR)\n",
    "1. [Gibson Assembly](#gibson)\n",
    "1. [Goldengate Assembly](#ggate)"
   ]
  },
  {
   "cell_type": "code",
   "execution_count": 1,
   "id": "6615ef09-9e39-4b29-9886-fe81c402b715",
   "metadata": {
    "tags": []
   },
   "outputs": [
    {
     "data": {
      "text/plain": [
       "<module 'plasmid' from '/home/peguin/python/lib/python3.9/site-packages/plasmid/__init__.py'>"
      ]
     },
     "execution_count": 1,
     "metadata": {},
     "output_type": "execute_result"
    }
   ],
   "source": [
    "import plasmid as pge\n",
    "import importlib\n",
    "importlib.reload(pge)"
   ]
  },
  {
   "cell_type": "markdown",
   "id": "691d329a-2ad6-4928-91c6-4bea2d330668",
   "metadata": {},
   "source": [
    "<a class=\"anchor\" id=\"xtPCR\"></a>\n",
    "## Extension PCR\n",
    "[Extension PCR](https://en.wikipedia.org/wiki/Overlap_extension_polymerase_chain_reaction) uses primers with overlapping annealing sites to assemble a larger DNA fragment. This method is useful for adding promoters, ribosome binding sites, or cloning overhangs onto a larger gene fragment. \n",
    "\n",
    "The `Designer` class has the following parameters and functions associated with extension PCR."
   ]
  },
  {
   "cell_type": "code",
   "execution_count": 2,
   "id": "0e5833e2-bc46-4b3c-8dfe-1ffa38637d82",
   "metadata": {
    "tags": []
   },
   "outputs": [
    {
     "name": "stdout",
     "output_type": "stream",
     "text": [
      "Help on method xtPCR in module plasmid.designer:\n",
      "\n",
      "xtPCR(fL, seq, fR=None, padding=[2, 2], niter=3, w=[10, 100, 1, 1, 2], get_cost=False) method of plasmid.designer.Designer instance\n",
      "    Find primers which can seed and extend a PCR fragment\n",
      "    fL = flanking sequence on 5' end\n",
      "    seq = sequence on 3' end which gets amplified\n",
      "    fR = flanking sequence on 3' end\n",
      "    padding = number of extra primers to try\n",
      "    w = weights for cost function\n",
      "    method = optimization method\n",
      "    returns list of primers\n",
      "\n",
      "parameters for extension PCR\n",
      "{'Tm': 50, 'len': [15, 60], 'nM': [20, 500], 'Na': 50}\n"
     ]
    }
   ],
   "source": [
    "pcr = pge.Designer()\n",
    "help(pcr.xtPCR)\n",
    "print('parameters for extension PCR')\n",
    "print(pcr.params['xtPCR'])"
   ]
  },
  {
   "cell_type": "markdown",
   "id": "c296be10-7f4b-482e-99c2-a796bdaa66e9",
   "metadata": {},
   "source": [
    "`Tm` is the target melting temperature for all primers.\n",
    "\n",
    "`len` is min and max primer lengths allowed in the design.\n",
    "\n",
    "`nM` is the concentration of seed and finishing primers used in the reaction.\n",
    "\n",
    "`Na` is the salt concentration of the PCR reaction.\n",
    "\n",
    "These parameters are used to compute the thermodynamic properties of the PCR reaction such as annealing temperature. In the backend, several optimization algorithms can be used to find the optimal primer sequences that minimize deviation from the target annealing temperature and off target binding."
   ]
  },
  {
   "cell_type": "markdown",
   "id": "e3ae3942-deb7-45de-9972-02fb6c9981c3",
   "metadata": {},
   "source": [
    "<a class=\"anchor\" id=\"running_xtPCR\"></a>\n",
    "### Running extension PCR\n",
    "The following code blocks generate a generic gene fragment from RFP, RBS, and pLac promoters. Extension PCR is used to add the pLac promoter and ribosome binding site sequences onto the RFP gene."
   ]
  },
  {
   "cell_type": "code",
   "execution_count": 3,
   "id": "6de9a6bf-f33b-4d3b-98f2-f058815713d0",
   "metadata": {
    "tags": []
   },
   "outputs": [
    {
     "name": "stdout",
     "output_type": "stream",
     "text": [
      "reading  ../data/dcas9_RFP.gb  as genbank file\n",
      "reading  ../data/xRFP.gb  as genbank file\n",
      "reading  ../data/xRFP.gb  as genbank file\n"
     ]
    }
   ],
   "source": [
    "# slice out the RFP gene\n",
    "RFP = pge.read_genbank('../data/dcas9_RFP.gb')\n",
    "RFP = RFP[RFP['locus_tag'].str.contains('mRFP')].splice()\n",
    "# slice out the ribosome binding site\n",
    "RBS = pge.read_genbank('../data/xRFP.gb')\n",
    "RBS = RBS[RBS['locus_tag'].str.contains('BBa_B0034')].splice()\n",
    "# slice out the promoter\n",
    "pLac = pge.read_genbank('../data/xRFP.gb')\n",
    "pLac = pLac[pLac['locus_tag'].str.contains('pLac')].splice()\n",
    "\n",
    "# assemble the promoter, rbs, and mRFP\n",
    "df = pLac + 'gagacc' + RBS + 'ggtctc' + RFP"
   ]
  },
  {
   "cell_type": "code",
   "execution_count": 4,
   "id": "bfe6916f-8a87-458f-a3c6-b57cf5d87b5d",
   "metadata": {
    "tags": []
   },
   "outputs": [
    {
     "name": "stdout",
     "output_type": "stream",
     "text": [
      "running fwd\n"
     ]
    },
    {
     "name": "stdout",
     "output_type": "stream",
     "text": [
      "running rev\n"
     ]
    },
    {
     "name": "stdout",
     "output_type": "stream",
     "text": [
      "  locus_tag         Tm                                           sequence  \\\n",
      "0       0_F  56.437456  ACAgagaccAAAGAGGAGAAAggtctc ATGGCGAGTAGCGAAGAC...   \n",
      "1     fin_F  55.207985  AATTGACAATGTGAGCGAGTAACAAGATACTGAGC ACAgagaccA...   \n",
      "0     fin_R  56.777386                                 TTAAGCACCGGTGGAGTG   \n",
      "\n",
      "                   annealed  strand  \n",
      "0  ATGGCGAGTAGCGAAGACGTTATC       1  \n",
      "1     ACAgagaccAAAGAGGAGAAA       1  \n",
      "0        TTAAGCACCGGTGGAGTG      -1  \n"
     ]
    }
   ],
   "source": [
    "pcr = pge.Designer()\n",
    "pcr.params['xtPCR']['Tm'] = 55         # target annealing temperature for xtPCR\n",
    "pcr.params['xtPCR']['len'] = [15, 60]  # defines the [min, max] primer lengths\n",
    "pcr.params['xtPCR']['Nm'] = [25,500]   # defines the seed and finishing primer concentration in nM\n",
    "pcr.params['verbose'] = False\n",
    "\n",
    "insert = pLac + 'gagacc' + RBS + 'ggtctc'\n",
    "res = pcr.xtPCR(insert, RFP, ' ')\n",
    "print(res)"
   ]
  },
  {
   "cell_type": "markdown",
   "id": "418fe921-8820-4674-884f-c786c0ae4b7c",
   "metadata": {},
   "source": [
    "In the above output dataframe, `fin_F` and `fin_R` are the finishing primers (used at 500nM), which are the last set of primers to amplify in the PCR reaction. `0_F` is a forward primer (used at 25nM) associated with seeding and extending the sequence from the 5' end of the oligo.\n",
    "\n",
    "In an extension PCR reaction, all these primers would be mixed together to generate the desired oligo at the target annealing tempertaure."
   ]
  },
  {
   "cell_type": "markdown",
   "id": "fec38134-d3fe-4754-92ac-36990f128427",
   "metadata": {},
   "source": [
    "<a class=\"anchor\" id=\"gibson\"></a>\n",
    "## Gibson Assembly\n",
    "[Gibson Assembly](https://www.neb.com/applications/cloning-and-synthetic-biology/dna-assembly-and-cloning/nebuilder-hifi-dna-assembly) uses exonucleases to reveal basepair overlaps between multiple DNA oligos. These overlaps can anneal and assemble into a longer DNA fragment. The following shows how to design primers for amplifying individual DNA fragments that can later be assembled into a longer construct. \n",
    "\n",
    "In the design process, optimal overlaps are first found via optimization. Next [xtPCR](#xtPCR) is used to design primers which can add the proper overlaps to the DNA oligos."
   ]
  },
  {
   "cell_type": "code",
   "execution_count": 5,
   "id": "94e8695f-c592-4665-8688-1daf8c9c00fa",
   "metadata": {
    "tags": []
   },
   "outputs": [
    {
     "name": "stdout",
     "output_type": "stream",
     "text": [
      "Help on method Gibson in module plasmid.designer:\n",
      "\n",
      "Gibson(seqlist, w=[10, 1], method='differential_evolution', circular=True) method of plasmid.designer.Designer instance\n",
      "    Design primers for gibson assembly\n",
      "    seqlist = list of sequences to assemble via gibson in order \n",
      "    circular = assemble fragments into a circular construct\n",
      "    returns list of primers\n",
      "\n",
      "{'Tm': 50, 'nM': 500, 'len': 30, 'window': 40}\n"
     ]
    }
   ],
   "source": [
    "pcr = pge.Designer()\n",
    "help(pcr.Gibson)\n",
    "print(pcr.params['gibson'])"
   ]
  },
  {
   "cell_type": "markdown",
   "id": "bb2ac422-6563-434e-a93b-7099f3309636",
   "metadata": {},
   "source": [
    "`Tm` is the target melting temperature of the overlaps.\n",
    "\n",
    "`nM` is the concentration of the oligos.\n",
    "\n",
    "`len` is the overlap length.\n",
    "\n",
    "`window` is the window of sequences from the fragment edges from which to check for optimal overlaps.\n",
    "\n",
    "These parameters are used to compute the annealing temperature of the overlap such that the target annealing temperature can be reached and overlaps minimize off target binding."
   ]
  },
  {
   "cell_type": "markdown",
   "id": "c53c7d21-15ff-4288-b1b2-f880f5434c65",
   "metadata": {},
   "source": [
    "### Running gibson assembly\n",
    "The following code blocks generate a new construct from LacI, RFP, and plasmid vector. Gibson is used to generate primers and oligos with optimal annealing overlaps."
   ]
  },
  {
   "cell_type": "code",
   "execution_count": 6,
   "id": "7a971588-f759-4fe2-8390-a890ad689bc1",
   "metadata": {
    "tags": []
   },
   "outputs": [],
   "source": [
    "def get_parts():\n",
    "    # slice out the LacI gene\n",
    "    LacI = pge.read_genbank('../data/xRFP.gb')\n",
    "    LacI = LacI[LacI['locus_tag'].str.contains('LacI')].splice()\n",
    "\n",
    "    # slice out the RFP gene\n",
    "    RFP = pge.read_genbank('../data/dcas9_RFP.gb')\n",
    "    RFP = RFP[RFP['locus_tag'].str.contains('mRFP')].splice()\n",
    "\n",
    "    # slice out the origin of replication\n",
    "    df = pge.read_genbank('../data/xRFP.gb')\n",
    "    vec = df[df['locus_tag'].str.contains('pSC101')]\n",
    "    start = vec['start'][0]\n",
    "    stop = vec['end'][0]\n",
    "    vec = df[start:stop]\n",
    "    return LacI, RFP, vec"
   ]
  },
  {
   "cell_type": "code",
   "execution_count": 7,
   "id": "80638f89-eabe-4a88-9bb2-1eb27868ed4e",
   "metadata": {
    "tags": []
   },
   "outputs": [
    {
     "name": "stdout",
     "output_type": "stream",
     "text": [
      "reading  ../data/xRFP.gb  as genbank file\n",
      "reading  ../data/dcas9_RFP.gb  as genbank file\n",
      "reading  ../data/xRFP.gb  as genbank file\n"
     ]
    },
    {
     "name": "stdout",
     "output_type": "stream",
     "text": [
      "res.x [10.60608033 14.38486143 23.88497503]\n",
      "res.fun -59.0\n",
      "exclude: []\n",
      "overlaps: ['GCGGGCAGTAAAAAActttt', 'TGCTTAACGCCcttttCTGT', 'ATGTAAC ATGGTGAATGTG']\n",
      "Tm overlap: [49.290031925644485, 51.50908680175826, 44.26293101370322]\n",
      "processing primers for frag 0\n",
      "running fwd\n"
     ]
    },
    {
     "name": "stdout",
     "output_type": "stream",
     "text": [
      "running rev\n"
     ]
    },
    {
     "name": "stdout",
     "output_type": "stream",
     "text": [
      "processing primers for frag 1\n",
      "running fwd\n"
     ]
    },
    {
     "name": "stdout",
     "output_type": "stream",
     "text": [
      "running rev\n"
     ]
    },
    {
     "name": "stdout",
     "output_type": "stream",
     "text": [
      "processing primers for frag 2\n",
      "running fwd\n"
     ]
    },
    {
     "name": "stdout",
     "output_type": "stream",
     "text": [
      "running rev\n"
     ]
    },
    {
     "name": "stdout",
     "output_type": "stream",
     "text": [
      "     locus_tag         Tm                                           sequence  \\\n",
      "0  frag0_fin_F  55.851352                   ATGTAAC  ATGGTGAATGTGAAACCAGTAAC   \n",
      "1  frag0_fin_R  56.106442                        aaaagTTTT TTACTGCCCGCTTTCCA   \n",
      "2  frag1_fin_F  55.335316            GCGGGCAGTAAAAAActttt  ATGGCGAGTAGCGAAGA   \n",
      "3  frag1_fin_R  56.777386                   ACAGaaaagGGCG TTAAGCACCGGTGGAGTG   \n",
      "4  frag2_fin_F  55.363272             TGCTTAACGCCctttt CTGTCAGACCAAGTTTACGAG   \n",
      "5  frag2_fin_R  54.627626              CACATTCACCAT  GTTACATTGTCGATCTGTTCATG   \n",
      "6         seq0        NaN  ATGTAAC ATGGTGAATGTGAAACCAGTAACGTTATACGATGTCGC...   \n",
      "7         seq1        NaN  GCGGGCAGTAAAAAActttt ATGGCGAGTAGCGAAGACGTTATCA...   \n",
      "8         seq2        NaN  TGCTTAACGCCcttttCTGTCAGACCAAGTTTACGAGCTCGCTTGG...   \n",
      "\n",
      "                  annealed  strand  \n",
      "0  ATGGTGAATGTGAAACCAGTAAC     1.0  \n",
      "1        TTACTGCCCGCTTTCCA    -1.0  \n",
      "2        ATGGCGAGTAGCGAAGA     1.0  \n",
      "3       TTAAGCACCGGTGGAGTG    -1.0  \n",
      "4    CTGTCAGACCAAGTTTACGAG     1.0  \n",
      "5  GTTACATTGTCGATCTGTTCATG    -1.0  \n",
      "6                      NaN     NaN  \n",
      "7                      NaN     NaN  \n",
      "8                      NaN     NaN  \n"
     ]
    }
   ],
   "source": [
    "# Generate the parts which need to be combined\n",
    "LacI, RFP, vec = get_parts()\n",
    "seq = []\n",
    "seq+= [[' ',LacI,'AAAActttt']] # add the LacI gene with 3' flanking sequences\n",
    "seq+= [[' ',RFP,'CGCCctttt']]  # add the RFP gene with 3' flanking sequences \n",
    "seq+= [['',vec,'']]  # add the vector\n",
    "\n",
    "pcr = pge.Designer()\n",
    "pcr.params['gibson']['Tm'] = 50     # target annealing temperature of gibson fragments    \n",
    "pcr.params['gibson']['window'] = 30 # +/i window in bp around frag edges to look for gibson overlap\n",
    "pcr.params['gibson']['len'] = 20    # length of gibson overlap\n",
    "\n",
    "pcr.params['xtPCR']['Tm'] = 55         # target annealing temperature for xtPCR\n",
    "pcr.params['xtPCR']['len'] = [15, 60]  # defines the [min, max] primer lengths\n",
    "pcr.params['xtPCR']['nM'] = [20, 500]  # defines the [seed, finisher] primer conc in nM\n",
    "pcr.params['verbose'] = False\n",
    "\n",
    "res = pcr.Gibson(seq)\n",
    "print(res)"
   ]
  },
  {
   "cell_type": "markdown",
   "id": "54ae9ada-cb7b-4b45-a91d-c4f1e4e1f56d",
   "metadata": {},
   "source": [
    "In the above output, `fin_F` and `fin_R` are the finishing primers (used at 500nM) for each gibson fragment. These are used independently in their own extension PCR reaction. After amplification, the PCR products are combined with gibson reaction mix to join the DNA oligos.\n",
    "\n",
    "seq0, seq1, and seq2 are full length fragments with the overlaps which can be order as gene fragments from vendors like Twist or IDT."
   ]
  },
  {
   "cell_type": "markdown",
   "id": "9ff41969-4672-448a-98fd-903f8e132d37",
   "metadata": {},
   "source": [
    "<a class=\"anchor\" id=\"ggate\"></a>\n",
    "## Goldengate Assembly\n",
    "[Goldengate](https://www.neb.com/applications/cloning-and-synthetic-biology/dna-assembly-and-cloning/golden-gate-assembly) assembly is another method of DNA assembly which relies on restriction enzymes to generate overlaps that can be annealed and ligated. This assembly process is more efficient than gibson assembly, but requires that the DNA oligos do not contain the restriction enzyme sites. Only the edges of the DNA fragments can contain the restriction sites.\n",
    "\n",
    "The goal of primer design is to find a set of primers which can artificially add restriction enzyme sites and overlaps to a set of DNA oligos that need to be assembled."
   ]
  },
  {
   "cell_type": "code",
   "execution_count": 8,
   "id": "2a2911c4-c54f-4d1b-a4b2-b4a42e6ca375",
   "metadata": {
    "tags": []
   },
   "outputs": [
    {
     "name": "stdout",
     "output_type": "stream",
     "text": [
      "Help on method GoldenGate in module plasmid.designer:\n",
      "\n",
      "GoldenGate(seqlist, exclude=[], w=[0, 1], circular=True) method of plasmid.designer.Designer instance\n",
      "    Design primers for goldengate assembly\n",
      "    seqlist = list of sequences to assemble\n",
      "    exclude = sites to exclude\n",
      "    circular = assemble fragments into a circular construct\n",
      "    returns list of primers\n",
      "\n",
      "{'Tm': 50, 'nM': 20, 'padding': '', 'ggsite': '', 'ggN': 20, 'window': 30}\n"
     ]
    }
   ],
   "source": [
    "pcr = pge.Designer()\n",
    "help(pcr.GoldenGate)\n",
    "print(pcr.params['goldengate'])"
   ]
  },
  {
   "cell_type": "markdown",
   "id": "74e12caf-46b3-4de4-bbbd-8fe5ee782a61",
   "metadata": {},
   "source": [
    "`Tm` is the target melting temperature of the overlaps.\n",
    "\n",
    "`nM` is the concentration of the oligos or DNA fragments.\n",
    "\n",
    "`padding` the extra nucleotide sequence that needs to be added to the 5' and 3' ends of the oligo after the restriction site so the enzymes can cut DNA properly.\n",
    "\n",
    "`ggsite` is the restriction enzyme to use.\n",
    "\n",
    "\n",
    "`ggN` is the overlap length generated by the restriction enzyme.\n",
    "\n",
    "`window` is the window of sequences from the fragment edges from which to check for optimal overlaps.\n",
    "\n",
    "These parameters are used to compute the annealing temperature of the overlap and primers such that oligos with the proper goldengate sites and overlaps can be generated for cloning."
   ]
  },
  {
   "cell_type": "markdown",
   "id": "29db8048-e16f-4768-a548-c76b53a3d507",
   "metadata": {},
   "source": [
    "### Running golden gate assembly\n",
    "The following code blocks generate a new construct from LacI, RFP, and plasmid vector. Goldengate is used to generate primers that add goldengate sites to the flanks of the oligos. Optimization works by first finding optimal overlaps for annealing the oligos. xtPCR is then used to add the proper goldengate sites to the oligos."
   ]
  },
  {
   "cell_type": "code",
   "execution_count": 9,
   "id": "a3bfa742-a892-4745-b7fb-3fd3060f5197",
   "metadata": {
    "tags": []
   },
   "outputs": [
    {
     "name": "stdout",
     "output_type": "stream",
     "text": [
      "reading  ../data/xRFP.gb  as genbank file\n",
      "reading  ../data/dcas9_RFP.gb  as genbank file\n",
      "reading  ../data/xRFP.gb  as genbank file\n"
     ]
    },
    {
     "name": "stdout",
     "output_type": "stream",
     "text": [
      "res.x [27.17299802 32.32654129 12.23344284]\n",
      "res.fun -12.0\n",
      "exclude: []\n",
      "overlaps: ['GTAG', 'GTTT', 'GGGc']\n",
      "Tm overlap: [-63.72743868625798, -67.45237457822893, -41.01531509599255]\n",
      "processing primers for frag 0\n",
      "running fwd\n"
     ]
    },
    {
     "name": "stderr",
     "output_type": "stream",
     "text": [
      "/home/peguin/python/lib/python3.9/site-packages/scipy/optimize/_numdiff.py:576: RuntimeWarning: invalid value encountered in subtract\n",
      "  df = fun(x) - f0\n"
     ]
    },
    {
     "name": "stdout",
     "output_type": "stream",
     "text": [
      "running rev\n"
     ]
    },
    {
     "name": "stdout",
     "output_type": "stream",
     "text": [
      "processing primers for frag 1\n",
      "running fwd\n"
     ]
    },
    {
     "name": "stderr",
     "output_type": "stream",
     "text": [
      "/home/peguin/python/lib/python3.9/site-packages/scipy/optimize/_numdiff.py:576: RuntimeWarning: invalid value encountered in subtract\n",
      "  df = fun(x) - f0\n"
     ]
    },
    {
     "name": "stdout",
     "output_type": "stream",
     "text": [
      "running rev\n"
     ]
    },
    {
     "name": "stderr",
     "output_type": "stream",
     "text": [
      "/home/peguin/python/lib/python3.9/site-packages/scipy/optimize/_numdiff.py:576: RuntimeWarning: invalid value encountered in subtract\n",
      "  df = fun(x) - f0\n"
     ]
    },
    {
     "name": "stdout",
     "output_type": "stream",
     "text": [
      "processing primers for frag 2\n",
      "running fwd\n"
     ]
    },
    {
     "name": "stderr",
     "output_type": "stream",
     "text": [
      "/home/peguin/python/lib/python3.9/site-packages/scipy/optimize/_numdiff.py:576: RuntimeWarning: invalid value encountered in subtract\n",
      "  df = fun(x) - f0\n"
     ]
    },
    {
     "name": "stdout",
     "output_type": "stream",
     "text": [
      "running rev\n"
     ]
    },
    {
     "name": "stdout",
     "output_type": "stream",
     "text": [
      "     locus_tag         Tm                                           sequence  \\\n",
      "0  frag0_fin_F  55.851352  atatatatggGGTCTCcGGGctttt ATGGTGAATGTGAAACCAGTAAC   \n",
      "1  frag0_fin_R  56.106442  atatatatggGGTCTCcCTACTCGCCATaaaagTTTT TTACTGCC...   \n",
      "2  frag1_fin_F  55.129431           atatatatggGGTCTCc GTAGCGAAGACGTTATCAAAGA   \n",
      "3  frag1_fin_R  56.777386  atatatatggGGTCTCcAAACTTGGTCTGACAGaaaagGGCG TTA...   \n",
      "4  frag2_fin_F  56.144721               atatatatggGGTCTCc GTTTACGAGCTCGCTTGG   \n",
      "5  frag2_fin_R  54.627626     atatatatggGGTCTCcgCCCC GTTACATTGTCGATCTGTTCATG   \n",
      "6         seq0        NaN  atatatatggGGTCTCcGGGcttttATGGTGAATGTGAAACCAGTA...   \n",
      "7         seq1        NaN  atatatatggGGTCTCcGTAGCGAAGACGTTATCAAAGAGTTCATG...   \n",
      "8         seq2        NaN  atatatatggGGTCTCcGTTTACGAGCTCGCTTGGACTCCTGTTGA...   \n",
      "\n",
      "                  annealed  strand  \n",
      "0  ATGGTGAATGTGAAACCAGTAAC     1.0  \n",
      "1        TTACTGCCCGCTTTCCA    -1.0  \n",
      "2   GTAGCGAAGACGTTATCAAAGA     1.0  \n",
      "3       TTAAGCACCGGTGGAGTG    -1.0  \n",
      "4       GTTTACGAGCTCGCTTGG     1.0  \n",
      "5  GTTACATTGTCGATCTGTTCATG    -1.0  \n",
      "6                      NaN     NaN  \n",
      "7                      NaN     NaN  \n",
      "8                      NaN     NaN  \n"
     ]
    },
    {
     "name": "stderr",
     "output_type": "stream",
     "text": [
      "/home/peguin/python/lib/python3.9/site-packages/scipy/optimize/_numdiff.py:576: RuntimeWarning: invalid value encountered in subtract\n",
      "  df = fun(x) - f0\n"
     ]
    }
   ],
   "source": [
    "LacI, RFP, vec = get_parts()\n",
    "seq = []\n",
    "seq+= [['',LacI,'AAAActttt']]\n",
    "seq+= [['',RFP,'CGCCctttt']]\n",
    "seq+= [['',vec,'GGGGctttt']]\n",
    "\n",
    "pcr = pge.Designer()\n",
    "pcr.params['goldengate']['window'] = 20 # +/i window in bp around frag edges to look for overlap\n",
    "pcr.params['goldengate']['ggN'] = 4     # length of golden gate overlap\n",
    "pcr.params['goldengate']['ggsite'] = 'GGTCTCc'     # golden gate enzyme site\n",
    "pcr.params['goldengate']['padding'] = 'atatatatgg' # padding around the golden gate site\n",
    "pcr.params['xtPCR']['len'] = [15, 60]  # defines the [min, max] primer lengths\n",
    "pcr.params['xtPCR']['nM'] = [20, 500] # defines the [seed, finisher] primer conc in nM\n",
    "pcr.params['xtPCR']['Tm'] = 55 # defines the [seed, finisher] primer conc in nM\n",
    "\n",
    "res = pcr.GoldenGate(seq)\n",
    "print(res)"
   ]
  },
  {
   "cell_type": "markdown",
   "id": "707aa272-4ee6-4367-afc8-27f60b136285",
   "metadata": {},
   "source": [
    "In the above output, `fin_F` and `fin_R` are the finishing primers (used at 500nM) for each goldengate fragment. These primers add BsaI sites to each gene fragment. These primers are used independently in their own extension PCR reaction. After amplification, the PCR products are combined with the golden gate enzyme and ligase to join the DNA oligos.\n",
    "\n",
    "seq0, seq1, and seq2 are full length fragments with the overlaps which can be order as gene fragments from vendors like Twist or IDT."
   ]
  }
 ],
 "metadata": {
  "kernelspec": {
   "display_name": "Python 3 (ipykernel)",
   "language": "python",
   "name": "python3"
  },
  "language_info": {
   "codemirror_mode": {
    "name": "ipython",
    "version": 3
   },
   "file_extension": ".py",
   "mimetype": "text/x-python",
   "name": "python",
   "nbconvert_exporter": "python",
   "pygments_lexer": "ipython3",
   "version": "3.9.2"
  }
 },
 "nbformat": 4,
 "nbformat_minor": 5
}